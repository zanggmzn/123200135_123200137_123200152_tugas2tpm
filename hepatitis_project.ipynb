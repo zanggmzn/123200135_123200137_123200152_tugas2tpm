{
  "cells": [
    {
      "cell_type": "markdown",
      "metadata": {
        "id": "view-in-github",
        "colab_type": "text"
      },
      "source": [
        "<a href=\"https://colab.research.google.com/github/zanggmzn/123200135_123200137_123200152_tugas2tpm/blob/main/hepatitis_project.ipynb\" target=\"_parent\"><img src=\"https://colab.research.google.com/assets/colab-badge.svg\" alt=\"Open In Colab\"/></a>"
      ]
    },
    {
      "cell_type": "markdown",
      "id": "2c7331d5-f282-45f8-963f-486c513c43bb",
      "metadata": {
        "id": "2c7331d5-f282-45f8-963f-486c513c43bb"
      },
      "source": [
        "# Import Libraries"
      ]
    },
    {
      "cell_type": "markdown",
      "id": "57a58fa1",
      "metadata": {
        "id": "57a58fa1"
      },
      "source": [
        "# Data Understanding"
      ]
    },
    {
      "cell_type": "code",
      "execution_count": null,
      "id": "69413f28-b71c-4248-9caf-e83f1b827294",
      "metadata": {
        "id": "69413f28-b71c-4248-9caf-e83f1b827294"
      },
      "outputs": [],
      "source": [
        "%matplotlib inline\n",
        "import numpy as np\n",
        "import matplotlib.pyplot as plt\n",
        "from scipy import stats\n",
        "# use seaborn plotting defaults\n",
        "import seaborn as sns; sns.set()\n",
        "import pandas as pd"
      ]
    },
    {
      "cell_type": "code",
      "execution_count": null,
      "id": "feb01e11-29b5-4f33-a7b6-dc71ba1cda03",
      "metadata": {
        "id": "feb01e11-29b5-4f33-a7b6-dc71ba1cda03"
      },
      "outputs": [],
      "source": [
        "# memberikan nama pada tiap kolom\n",
        "kolomVariabel=['Class','AGE','SEX','STEROID','ANTIVIRALS','FATIGUE','MALAISE','ANOREXIA','LIVER BIG','LIVER FIRM','SPLEEN PALPABLE','SPIDERS','ASCITES','VARICES','BILIRUBIN','ALK PHOSPHATE','SGOT','ALBUMIN','PROTIME','HISTOLOGY']"
      ]
    },
    {
      "cell_type": "code",
      "execution_count": null,
      "id": "02e8a9f7-3759-447c-a7b7-00e0e66aa594",
      "metadata": {
        "id": "02e8a9f7-3759-447c-a7b7-00e0e66aa594"
      },
      "outputs": [],
      "source": [
        "# dibuat dataframe dengan atribut kolomVariabel\n",
        "dataframe = pd.read_csv(\"hepatitis.data\", names=kolomVariabel)"
      ]
    },
    {
      "cell_type": "code",
      "execution_count": null,
      "id": "8424a9cd",
      "metadata": {
        "id": "8424a9cd",
        "outputId": "bf05839a-020f-4b4e-f6e1-6df367666589"
      },
      "outputs": [
        {
          "data": {
            "text/plain": [
              "(155, 20)"
            ]
          },
          "execution_count": 281,
          "metadata": {},
          "output_type": "execute_result"
        }
      ],
      "source": [
        "# cek kolom baris\n",
        "dataframe.shape"
      ]
    },
    {
      "cell_type": "code",
      "execution_count": null,
      "id": "4f418100-165c-41b4-996a-d6e0eb481dd0",
      "metadata": {
        "id": "4f418100-165c-41b4-996a-d6e0eb481dd0",
        "outputId": "ba13e5b3-1056-4fac-c29f-05f7c2fee14a"
      },
      "outputs": [
        {
          "data": {
            "text/html": [
              "<div>\n",
              "<style scoped>\n",
              "    .dataframe tbody tr th:only-of-type {\n",
              "        vertical-align: middle;\n",
              "    }\n",
              "\n",
              "    .dataframe tbody tr th {\n",
              "        vertical-align: top;\n",
              "    }\n",
              "\n",
              "    .dataframe thead th {\n",
              "        text-align: right;\n",
              "    }\n",
              "</style>\n",
              "<table border=\"1\" class=\"dataframe\">\n",
              "  <thead>\n",
              "    <tr style=\"text-align: right;\">\n",
              "      <th></th>\n",
              "      <th>Class</th>\n",
              "      <th>AGE</th>\n",
              "      <th>SEX</th>\n",
              "      <th>STEROID</th>\n",
              "      <th>ANTIVIRALS</th>\n",
              "      <th>FATIGUE</th>\n",
              "      <th>MALAISE</th>\n",
              "      <th>ANOREXIA</th>\n",
              "      <th>LIVER BIG</th>\n",
              "      <th>LIVER FIRM</th>\n",
              "      <th>SPLEEN PALPABLE</th>\n",
              "      <th>SPIDERS</th>\n",
              "      <th>ASCITES</th>\n",
              "      <th>VARICES</th>\n",
              "      <th>BILIRUBIN</th>\n",
              "      <th>ALK PHOSPHATE</th>\n",
              "      <th>SGOT</th>\n",
              "      <th>ALBUMIN</th>\n",
              "      <th>PROTIME</th>\n",
              "      <th>HISTOLOGY</th>\n",
              "    </tr>\n",
              "  </thead>\n",
              "  <tbody>\n",
              "    <tr>\n",
              "      <th>0</th>\n",
              "      <td>2</td>\n",
              "      <td>30</td>\n",
              "      <td>2</td>\n",
              "      <td>1</td>\n",
              "      <td>2</td>\n",
              "      <td>2</td>\n",
              "      <td>2</td>\n",
              "      <td>2</td>\n",
              "      <td>1</td>\n",
              "      <td>2</td>\n",
              "      <td>2</td>\n",
              "      <td>2</td>\n",
              "      <td>2</td>\n",
              "      <td>2</td>\n",
              "      <td>1.00</td>\n",
              "      <td>85</td>\n",
              "      <td>18</td>\n",
              "      <td>4.0</td>\n",
              "      <td>?</td>\n",
              "      <td>1</td>\n",
              "    </tr>\n",
              "    <tr>\n",
              "      <th>1</th>\n",
              "      <td>2</td>\n",
              "      <td>50</td>\n",
              "      <td>1</td>\n",
              "      <td>1</td>\n",
              "      <td>2</td>\n",
              "      <td>1</td>\n",
              "      <td>2</td>\n",
              "      <td>2</td>\n",
              "      <td>1</td>\n",
              "      <td>2</td>\n",
              "      <td>2</td>\n",
              "      <td>2</td>\n",
              "      <td>2</td>\n",
              "      <td>2</td>\n",
              "      <td>0.90</td>\n",
              "      <td>135</td>\n",
              "      <td>42</td>\n",
              "      <td>3.5</td>\n",
              "      <td>?</td>\n",
              "      <td>1</td>\n",
              "    </tr>\n",
              "    <tr>\n",
              "      <th>2</th>\n",
              "      <td>2</td>\n",
              "      <td>78</td>\n",
              "      <td>1</td>\n",
              "      <td>2</td>\n",
              "      <td>2</td>\n",
              "      <td>1</td>\n",
              "      <td>2</td>\n",
              "      <td>2</td>\n",
              "      <td>2</td>\n",
              "      <td>2</td>\n",
              "      <td>2</td>\n",
              "      <td>2</td>\n",
              "      <td>2</td>\n",
              "      <td>2</td>\n",
              "      <td>0.70</td>\n",
              "      <td>96</td>\n",
              "      <td>32</td>\n",
              "      <td>4.0</td>\n",
              "      <td>?</td>\n",
              "      <td>1</td>\n",
              "    </tr>\n",
              "    <tr>\n",
              "      <th>3</th>\n",
              "      <td>2</td>\n",
              "      <td>31</td>\n",
              "      <td>1</td>\n",
              "      <td>?</td>\n",
              "      <td>1</td>\n",
              "      <td>2</td>\n",
              "      <td>2</td>\n",
              "      <td>2</td>\n",
              "      <td>2</td>\n",
              "      <td>2</td>\n",
              "      <td>2</td>\n",
              "      <td>2</td>\n",
              "      <td>2</td>\n",
              "      <td>2</td>\n",
              "      <td>0.70</td>\n",
              "      <td>46</td>\n",
              "      <td>52</td>\n",
              "      <td>4.0</td>\n",
              "      <td>80</td>\n",
              "      <td>1</td>\n",
              "    </tr>\n",
              "    <tr>\n",
              "      <th>4</th>\n",
              "      <td>2</td>\n",
              "      <td>34</td>\n",
              "      <td>1</td>\n",
              "      <td>2</td>\n",
              "      <td>2</td>\n",
              "      <td>2</td>\n",
              "      <td>2</td>\n",
              "      <td>2</td>\n",
              "      <td>2</td>\n",
              "      <td>2</td>\n",
              "      <td>2</td>\n",
              "      <td>2</td>\n",
              "      <td>2</td>\n",
              "      <td>2</td>\n",
              "      <td>1.00</td>\n",
              "      <td>?</td>\n",
              "      <td>200</td>\n",
              "      <td>4.0</td>\n",
              "      <td>?</td>\n",
              "      <td>1</td>\n",
              "    </tr>\n",
              "  </tbody>\n",
              "</table>\n",
              "</div>"
            ],
            "text/plain": [
              "   Class  AGE  SEX STEROID  ANTIVIRALS FATIGUE MALAISE ANOREXIA LIVER BIG  \\\n",
              "0      2   30    2       1           2       2       2        2         1   \n",
              "1      2   50    1       1           2       1       2        2         1   \n",
              "2      2   78    1       2           2       1       2        2         2   \n",
              "3      2   31    1       ?           1       2       2        2         2   \n",
              "4      2   34    1       2           2       2       2        2         2   \n",
              "\n",
              "  LIVER FIRM SPLEEN PALPABLE SPIDERS ASCITES VARICES BILIRUBIN ALK PHOSPHATE  \\\n",
              "0          2               2       2       2       2      1.00            85   \n",
              "1          2               2       2       2       2      0.90           135   \n",
              "2          2               2       2       2       2      0.70            96   \n",
              "3          2               2       2       2       2      0.70            46   \n",
              "4          2               2       2       2       2      1.00             ?   \n",
              "\n",
              "  SGOT ALBUMIN PROTIME  HISTOLOGY  \n",
              "0   18     4.0       ?          1  \n",
              "1   42     3.5       ?          1  \n",
              "2   32     4.0       ?          1  \n",
              "3   52     4.0      80          1  \n",
              "4  200     4.0       ?          1  "
            ]
          },
          "execution_count": 282,
          "metadata": {},
          "output_type": "execute_result"
        }
      ],
      "source": [
        "dataframe.head(5)"
      ]
    },
    {
      "cell_type": "markdown",
      "id": "e964f28e-ec07-488f-a48b-2bbd6301c2a5",
      "metadata": {
        "id": "e964f28e-ec07-488f-a48b-2bbd6301c2a5"
      },
      "source": [
        "# Data Preprocessing : Replace NaN"
      ]
    },
    {
      "cell_type": "code",
      "execution_count": null,
      "id": "582616a8-9b76-4f73-92e5-94c170977471",
      "metadata": {
        "id": "582616a8-9b76-4f73-92e5-94c170977471",
        "outputId": "a4644536-30ed-4804-a883-1bd3879f56c0"
      },
      "outputs": [
        {
          "data": {
            "text/plain": [
              "Class               0\n",
              "AGE                 0\n",
              "SEX                 0\n",
              "STEROID             1\n",
              "ANTIVIRALS          0\n",
              "FATIGUE             1\n",
              "MALAISE             1\n",
              "ANOREXIA            1\n",
              "LIVER BIG          10\n",
              "LIVER FIRM         11\n",
              "SPLEEN PALPABLE     5\n",
              "SPIDERS             5\n",
              "ASCITES             5\n",
              "VARICES             5\n",
              "BILIRUBIN           6\n",
              "ALK PHOSPHATE      29\n",
              "SGOT                4\n",
              "ALBUMIN            16\n",
              "PROTIME            67\n",
              "HISTOLOGY           0\n",
              "dtype: int64"
            ]
          },
          "execution_count": 283,
          "metadata": {},
          "output_type": "execute_result"
        }
      ],
      "source": [
        "# replace \"?\" with NaN\n",
        "dataframe.replace(\"?\",np.nan, inplace = True)\n",
        "# hitung jumlah total NaN pada tiap kolom\n",
        "dataframe.isnull().sum() #jd yg dihitung data yg NaN"
      ]
    },
    {
      "cell_type": "code",
      "execution_count": null,
      "id": "c92cb977-7533-46ed-aeb3-b7ead282c203",
      "metadata": {
        "id": "c92cb977-7533-46ed-aeb3-b7ead282c203"
      },
      "outputs": [],
      "source": [
        "#jadi isi dataframe_ori itu data yg udah direplace sama NaN\n",
        "dataframe_ori = dataframe"
      ]
    },
    {
      "cell_type": "code",
      "execution_count": null,
      "id": "5d86a763-8f88-476a-8f9a-5f700ab6d52b",
      "metadata": {
        "id": "5d86a763-8f88-476a-8f9a-5f700ab6d52b",
        "outputId": "5e53b443-7cf6-4e49-be35-e054b222bda3"
      },
      "outputs": [
        {
          "data": {
            "text/html": [
              "<div>\n",
              "<style scoped>\n",
              "    .dataframe tbody tr th:only-of-type {\n",
              "        vertical-align: middle;\n",
              "    }\n",
              "\n",
              "    .dataframe tbody tr th {\n",
              "        vertical-align: top;\n",
              "    }\n",
              "\n",
              "    .dataframe thead th {\n",
              "        text-align: right;\n",
              "    }\n",
              "</style>\n",
              "<table border=\"1\" class=\"dataframe\">\n",
              "  <thead>\n",
              "    <tr style=\"text-align: right;\">\n",
              "      <th></th>\n",
              "      <th>Class</th>\n",
              "      <th>AGE</th>\n",
              "      <th>SEX</th>\n",
              "      <th>STEROID</th>\n",
              "      <th>ANTIVIRALS</th>\n",
              "      <th>FATIGUE</th>\n",
              "      <th>MALAISE</th>\n",
              "      <th>ANOREXIA</th>\n",
              "      <th>LIVER BIG</th>\n",
              "      <th>LIVER FIRM</th>\n",
              "      <th>SPLEEN PALPABLE</th>\n",
              "      <th>SPIDERS</th>\n",
              "      <th>ASCITES</th>\n",
              "      <th>VARICES</th>\n",
              "      <th>BILIRUBIN</th>\n",
              "      <th>ALK PHOSPHATE</th>\n",
              "      <th>SGOT</th>\n",
              "      <th>ALBUMIN</th>\n",
              "      <th>PROTIME</th>\n",
              "      <th>HISTOLOGY</th>\n",
              "    </tr>\n",
              "  </thead>\n",
              "  <tbody>\n",
              "    <tr>\n",
              "      <th>0</th>\n",
              "      <td>2</td>\n",
              "      <td>30</td>\n",
              "      <td>2</td>\n",
              "      <td>1</td>\n",
              "      <td>2</td>\n",
              "      <td>2</td>\n",
              "      <td>2</td>\n",
              "      <td>2</td>\n",
              "      <td>1</td>\n",
              "      <td>2</td>\n",
              "      <td>2</td>\n",
              "      <td>2</td>\n",
              "      <td>2</td>\n",
              "      <td>2</td>\n",
              "      <td>1.00</td>\n",
              "      <td>85</td>\n",
              "      <td>18</td>\n",
              "      <td>4.0</td>\n",
              "      <td>NaN</td>\n",
              "      <td>1</td>\n",
              "    </tr>\n",
              "    <tr>\n",
              "      <th>1</th>\n",
              "      <td>2</td>\n",
              "      <td>50</td>\n",
              "      <td>1</td>\n",
              "      <td>1</td>\n",
              "      <td>2</td>\n",
              "      <td>1</td>\n",
              "      <td>2</td>\n",
              "      <td>2</td>\n",
              "      <td>1</td>\n",
              "      <td>2</td>\n",
              "      <td>2</td>\n",
              "      <td>2</td>\n",
              "      <td>2</td>\n",
              "      <td>2</td>\n",
              "      <td>0.90</td>\n",
              "      <td>135</td>\n",
              "      <td>42</td>\n",
              "      <td>3.5</td>\n",
              "      <td>NaN</td>\n",
              "      <td>1</td>\n",
              "    </tr>\n",
              "    <tr>\n",
              "      <th>2</th>\n",
              "      <td>2</td>\n",
              "      <td>78</td>\n",
              "      <td>1</td>\n",
              "      <td>2</td>\n",
              "      <td>2</td>\n",
              "      <td>1</td>\n",
              "      <td>2</td>\n",
              "      <td>2</td>\n",
              "      <td>2</td>\n",
              "      <td>2</td>\n",
              "      <td>2</td>\n",
              "      <td>2</td>\n",
              "      <td>2</td>\n",
              "      <td>2</td>\n",
              "      <td>0.70</td>\n",
              "      <td>96</td>\n",
              "      <td>32</td>\n",
              "      <td>4.0</td>\n",
              "      <td>NaN</td>\n",
              "      <td>1</td>\n",
              "    </tr>\n",
              "    <tr>\n",
              "      <th>3</th>\n",
              "      <td>2</td>\n",
              "      <td>31</td>\n",
              "      <td>1</td>\n",
              "      <td>NaN</td>\n",
              "      <td>1</td>\n",
              "      <td>2</td>\n",
              "      <td>2</td>\n",
              "      <td>2</td>\n",
              "      <td>2</td>\n",
              "      <td>2</td>\n",
              "      <td>2</td>\n",
              "      <td>2</td>\n",
              "      <td>2</td>\n",
              "      <td>2</td>\n",
              "      <td>0.70</td>\n",
              "      <td>46</td>\n",
              "      <td>52</td>\n",
              "      <td>4.0</td>\n",
              "      <td>80</td>\n",
              "      <td>1</td>\n",
              "    </tr>\n",
              "    <tr>\n",
              "      <th>4</th>\n",
              "      <td>2</td>\n",
              "      <td>34</td>\n",
              "      <td>1</td>\n",
              "      <td>2</td>\n",
              "      <td>2</td>\n",
              "      <td>2</td>\n",
              "      <td>2</td>\n",
              "      <td>2</td>\n",
              "      <td>2</td>\n",
              "      <td>2</td>\n",
              "      <td>2</td>\n",
              "      <td>2</td>\n",
              "      <td>2</td>\n",
              "      <td>2</td>\n",
              "      <td>1.00</td>\n",
              "      <td>NaN</td>\n",
              "      <td>200</td>\n",
              "      <td>4.0</td>\n",
              "      <td>NaN</td>\n",
              "      <td>1</td>\n",
              "    </tr>\n",
              "    <tr>\n",
              "      <th>5</th>\n",
              "      <td>2</td>\n",
              "      <td>34</td>\n",
              "      <td>1</td>\n",
              "      <td>2</td>\n",
              "      <td>2</td>\n",
              "      <td>2</td>\n",
              "      <td>2</td>\n",
              "      <td>2</td>\n",
              "      <td>2</td>\n",
              "      <td>2</td>\n",
              "      <td>2</td>\n",
              "      <td>2</td>\n",
              "      <td>2</td>\n",
              "      <td>2</td>\n",
              "      <td>0.90</td>\n",
              "      <td>95</td>\n",
              "      <td>28</td>\n",
              "      <td>4.0</td>\n",
              "      <td>75</td>\n",
              "      <td>1</td>\n",
              "    </tr>\n",
              "    <tr>\n",
              "      <th>6</th>\n",
              "      <td>1</td>\n",
              "      <td>51</td>\n",
              "      <td>1</td>\n",
              "      <td>1</td>\n",
              "      <td>2</td>\n",
              "      <td>1</td>\n",
              "      <td>2</td>\n",
              "      <td>1</td>\n",
              "      <td>2</td>\n",
              "      <td>2</td>\n",
              "      <td>1</td>\n",
              "      <td>1</td>\n",
              "      <td>2</td>\n",
              "      <td>2</td>\n",
              "      <td>NaN</td>\n",
              "      <td>NaN</td>\n",
              "      <td>NaN</td>\n",
              "      <td>NaN</td>\n",
              "      <td>NaN</td>\n",
              "      <td>1</td>\n",
              "    </tr>\n",
              "    <tr>\n",
              "      <th>7</th>\n",
              "      <td>2</td>\n",
              "      <td>23</td>\n",
              "      <td>1</td>\n",
              "      <td>2</td>\n",
              "      <td>2</td>\n",
              "      <td>2</td>\n",
              "      <td>2</td>\n",
              "      <td>2</td>\n",
              "      <td>2</td>\n",
              "      <td>2</td>\n",
              "      <td>2</td>\n",
              "      <td>2</td>\n",
              "      <td>2</td>\n",
              "      <td>2</td>\n",
              "      <td>1.00</td>\n",
              "      <td>NaN</td>\n",
              "      <td>NaN</td>\n",
              "      <td>NaN</td>\n",
              "      <td>NaN</td>\n",
              "      <td>1</td>\n",
              "    </tr>\n",
              "    <tr>\n",
              "      <th>8</th>\n",
              "      <td>2</td>\n",
              "      <td>39</td>\n",
              "      <td>1</td>\n",
              "      <td>2</td>\n",
              "      <td>2</td>\n",
              "      <td>1</td>\n",
              "      <td>2</td>\n",
              "      <td>2</td>\n",
              "      <td>2</td>\n",
              "      <td>1</td>\n",
              "      <td>2</td>\n",
              "      <td>2</td>\n",
              "      <td>2</td>\n",
              "      <td>2</td>\n",
              "      <td>0.70</td>\n",
              "      <td>NaN</td>\n",
              "      <td>48</td>\n",
              "      <td>4.4</td>\n",
              "      <td>NaN</td>\n",
              "      <td>1</td>\n",
              "    </tr>\n",
              "    <tr>\n",
              "      <th>9</th>\n",
              "      <td>2</td>\n",
              "      <td>30</td>\n",
              "      <td>1</td>\n",
              "      <td>2</td>\n",
              "      <td>2</td>\n",
              "      <td>2</td>\n",
              "      <td>2</td>\n",
              "      <td>2</td>\n",
              "      <td>2</td>\n",
              "      <td>2</td>\n",
              "      <td>2</td>\n",
              "      <td>2</td>\n",
              "      <td>2</td>\n",
              "      <td>2</td>\n",
              "      <td>1.00</td>\n",
              "      <td>NaN</td>\n",
              "      <td>120</td>\n",
              "      <td>3.9</td>\n",
              "      <td>NaN</td>\n",
              "      <td>1</td>\n",
              "    </tr>\n",
              "  </tbody>\n",
              "</table>\n",
              "</div>"
            ],
            "text/plain": [
              "   Class  AGE  SEX STEROID  ANTIVIRALS FATIGUE MALAISE ANOREXIA LIVER BIG  \\\n",
              "0      2   30    2       1           2       2       2        2         1   \n",
              "1      2   50    1       1           2       1       2        2         1   \n",
              "2      2   78    1       2           2       1       2        2         2   \n",
              "3      2   31    1     NaN           1       2       2        2         2   \n",
              "4      2   34    1       2           2       2       2        2         2   \n",
              "5      2   34    1       2           2       2       2        2         2   \n",
              "6      1   51    1       1           2       1       2        1         2   \n",
              "7      2   23    1       2           2       2       2        2         2   \n",
              "8      2   39    1       2           2       1       2        2         2   \n",
              "9      2   30    1       2           2       2       2        2         2   \n",
              "\n",
              "  LIVER FIRM SPLEEN PALPABLE SPIDERS ASCITES VARICES BILIRUBIN ALK PHOSPHATE  \\\n",
              "0          2               2       2       2       2      1.00            85   \n",
              "1          2               2       2       2       2      0.90           135   \n",
              "2          2               2       2       2       2      0.70            96   \n",
              "3          2               2       2       2       2      0.70            46   \n",
              "4          2               2       2       2       2      1.00           NaN   \n",
              "5          2               2       2       2       2      0.90            95   \n",
              "6          2               1       1       2       2       NaN           NaN   \n",
              "7          2               2       2       2       2      1.00           NaN   \n",
              "8          1               2       2       2       2      0.70           NaN   \n",
              "9          2               2       2       2       2      1.00           NaN   \n",
              "\n",
              "  SGOT ALBUMIN PROTIME  HISTOLOGY  \n",
              "0   18     4.0     NaN          1  \n",
              "1   42     3.5     NaN          1  \n",
              "2   32     4.0     NaN          1  \n",
              "3   52     4.0      80          1  \n",
              "4  200     4.0     NaN          1  \n",
              "5   28     4.0      75          1  \n",
              "6  NaN     NaN     NaN          1  \n",
              "7  NaN     NaN     NaN          1  \n",
              "8   48     4.4     NaN          1  \n",
              "9  120     3.9     NaN          1  "
            ]
          },
          "execution_count": 285,
          "metadata": {},
          "output_type": "execute_result"
        }
      ],
      "source": [
        "# dataframe yg sudah direplace NaN\n",
        "dataframe.head(10)"
      ]
    },
    {
      "cell_type": "code",
      "execution_count": null,
      "id": "3833faec-9a9e-43ab-b189-e4cab44a57dc",
      "metadata": {
        "id": "3833faec-9a9e-43ab-b189-e4cab44a57dc"
      },
      "outputs": [],
      "source": [
        "# Mulai pengelompokan untuk numeric dan categorical\n",
        "variabelNumeric= ['AGE', 'BILIRUBIN', 'PROTIME', 'ALBUMIN', 'ALK PHOSPHATE', 'SGOT']"
      ]
    },
    {
      "cell_type": "code",
      "execution_count": null,
      "id": "d322e46b-f735-4c66-b8c1-a07cea4018fd",
      "metadata": {
        "id": "d322e46b-f735-4c66-b8c1-a07cea4018fd"
      },
      "outputs": [],
      "source": [
        "variabelCategorical = ['SEX' , 'STEROID', 'ANTIVIRALS', 'FATIGUE','MALAISE','ANOREXIA','LIVER BIG','LIVER FIRM','SPLEEN PALPABLE',\n",
        "'SPIDERS','ASCITES','VARICES', 'HISTOLOGY']"
      ]
    },
    {
      "cell_type": "markdown",
      "id": "273ee245-d4a3-4628-ba82-cc8187f414b4",
      "metadata": {
        "id": "273ee245-d4a3-4628-ba82-cc8187f414b4"
      },
      "source": [
        "# Data Preprocessing : Missing Value\n",
        "Menangani missing value menggunakan 2 cara:\n",
        "<br>a)\tImputasi menggunakan metode rata-rata(means) = untuk data numerik\n",
        "<br>b)\tImputasi menggunakan metode value yang sering muncul = untuk data categorical"
      ]
    },
    {
      "cell_type": "markdown",
      "id": "12b782c3-6385-4f05-9cb9-e60d5d6162f3",
      "metadata": {
        "id": "12b782c3-6385-4f05-9cb9-e60d5d6162f3"
      },
      "source": [
        "### Data Numerik"
      ]
    },
    {
      "cell_type": "code",
      "execution_count": null,
      "id": "e8bb9c87-0a59-44d0-92d3-45210e4ff908",
      "metadata": {
        "id": "e8bb9c87-0a59-44d0-92d3-45210e4ff908"
      },
      "outputs": [],
      "source": [
        "# ubah tipe data menjadi float untuk perhitungan means\n",
        "########################################\n",
        "dataframe[\"BILIRUBIN\"] = dataframe.BILIRUBIN.astype(float)\n",
        "dataframe[\"PROTIME\"] = dataframe.PROTIME.astype(float)\n",
        "dataframe[\"ALK PHOSPHATE\"] = dataframe[\"ALK PHOSPHATE\"].astype(float)\n",
        "dataframe[\"SGOT\"] = dataframe.SGOT.astype(float)\n",
        "dataframe[\"ALBUMIN\"] = dataframe.ALBUMIN.astype(float)"
      ]
    },
    {
      "cell_type": "code",
      "execution_count": null,
      "id": "d40a7212-c0ff-470e-a9d6-a9683e2de4a2",
      "metadata": {
        "id": "d40a7212-c0ff-470e-a9d6-a9683e2de4a2",
        "outputId": "2d651050-f13a-482b-b67c-9bfc54ac6757"
      },
      "outputs": [
        {
          "data": {
            "text/plain": [
              "AGE                int64\n",
              "BILIRUBIN        float64\n",
              "PROTIME          float64\n",
              "ALBUMIN          float64\n",
              "ALK PHOSPHATE    float64\n",
              "SGOT             float64\n",
              "dtype: object"
            ]
          },
          "execution_count": 289,
          "metadata": {},
          "output_type": "execute_result"
        }
      ],
      "source": [
        "# mengecek tipe data\n",
        "dataframe[variabelNumeric].dtypes"
      ]
    },
    {
      "cell_type": "code",
      "execution_count": null,
      "id": "62449403-727d-4388-ab32-ac2c383026c6",
      "metadata": {
        "id": "62449403-727d-4388-ab32-ac2c383026c6",
        "outputId": "e2a1ba83-e0b8-4161-b550-a6aa89cac932"
      },
      "outputs": [
        {
          "data": {
            "text/html": [
              "<div>\n",
              "<style scoped>\n",
              "    .dataframe tbody tr th:only-of-type {\n",
              "        vertical-align: middle;\n",
              "    }\n",
              "\n",
              "    .dataframe tbody tr th {\n",
              "        vertical-align: top;\n",
              "    }\n",
              "\n",
              "    .dataframe thead th {\n",
              "        text-align: right;\n",
              "    }\n",
              "</style>\n",
              "<table border=\"1\" class=\"dataframe\">\n",
              "  <thead>\n",
              "    <tr style=\"text-align: right;\">\n",
              "      <th></th>\n",
              "      <th>AGE</th>\n",
              "      <th>BILIRUBIN</th>\n",
              "      <th>PROTIME</th>\n",
              "      <th>ALBUMIN</th>\n",
              "      <th>ALK PHOSPHATE</th>\n",
              "      <th>SGOT</th>\n",
              "    </tr>\n",
              "  </thead>\n",
              "  <tbody>\n",
              "    <tr>\n",
              "      <th>count</th>\n",
              "      <td>155.000000</td>\n",
              "      <td>149.000000</td>\n",
              "      <td>88.000000</td>\n",
              "      <td>139.000000</td>\n",
              "      <td>126.000000</td>\n",
              "      <td>151.00000</td>\n",
              "    </tr>\n",
              "    <tr>\n",
              "      <th>mean</th>\n",
              "      <td>41.200000</td>\n",
              "      <td>1.427517</td>\n",
              "      <td>61.852273</td>\n",
              "      <td>3.817266</td>\n",
              "      <td>105.325397</td>\n",
              "      <td>85.89404</td>\n",
              "    </tr>\n",
              "    <tr>\n",
              "      <th>std</th>\n",
              "      <td>12.565878</td>\n",
              "      <td>1.212149</td>\n",
              "      <td>22.875244</td>\n",
              "      <td>0.651523</td>\n",
              "      <td>51.508109</td>\n",
              "      <td>89.65089</td>\n",
              "    </tr>\n",
              "    <tr>\n",
              "      <th>min</th>\n",
              "      <td>7.000000</td>\n",
              "      <td>0.300000</td>\n",
              "      <td>0.000000</td>\n",
              "      <td>2.100000</td>\n",
              "      <td>26.000000</td>\n",
              "      <td>14.00000</td>\n",
              "    </tr>\n",
              "    <tr>\n",
              "      <th>25%</th>\n",
              "      <td>32.000000</td>\n",
              "      <td>0.700000</td>\n",
              "      <td>46.000000</td>\n",
              "      <td>3.400000</td>\n",
              "      <td>74.250000</td>\n",
              "      <td>31.50000</td>\n",
              "    </tr>\n",
              "    <tr>\n",
              "      <th>50%</th>\n",
              "      <td>39.000000</td>\n",
              "      <td>1.000000</td>\n",
              "      <td>61.000000</td>\n",
              "      <td>4.000000</td>\n",
              "      <td>85.000000</td>\n",
              "      <td>58.00000</td>\n",
              "    </tr>\n",
              "    <tr>\n",
              "      <th>75%</th>\n",
              "      <td>50.000000</td>\n",
              "      <td>1.500000</td>\n",
              "      <td>76.250000</td>\n",
              "      <td>4.200000</td>\n",
              "      <td>132.250000</td>\n",
              "      <td>100.50000</td>\n",
              "    </tr>\n",
              "    <tr>\n",
              "      <th>max</th>\n",
              "      <td>78.000000</td>\n",
              "      <td>8.000000</td>\n",
              "      <td>100.000000</td>\n",
              "      <td>6.400000</td>\n",
              "      <td>295.000000</td>\n",
              "      <td>648.00000</td>\n",
              "    </tr>\n",
              "  </tbody>\n",
              "</table>\n",
              "</div>"
            ],
            "text/plain": [
              "              AGE   BILIRUBIN     PROTIME     ALBUMIN  ALK PHOSPHATE  \\\n",
              "count  155.000000  149.000000   88.000000  139.000000     126.000000   \n",
              "mean    41.200000    1.427517   61.852273    3.817266     105.325397   \n",
              "std     12.565878    1.212149   22.875244    0.651523      51.508109   \n",
              "min      7.000000    0.300000    0.000000    2.100000      26.000000   \n",
              "25%     32.000000    0.700000   46.000000    3.400000      74.250000   \n",
              "50%     39.000000    1.000000   61.000000    4.000000      85.000000   \n",
              "75%     50.000000    1.500000   76.250000    4.200000     132.250000   \n",
              "max     78.000000    8.000000  100.000000    6.400000     295.000000   \n",
              "\n",
              "            SGOT  \n",
              "count  151.00000  \n",
              "mean    85.89404  \n",
              "std     89.65089  \n",
              "min     14.00000  \n",
              "25%     31.50000  \n",
              "50%     58.00000  \n",
              "75%    100.50000  \n",
              "max    648.00000  "
            ]
          },
          "execution_count": 290,
          "metadata": {},
          "output_type": "execute_result"
        }
      ],
      "source": [
        "dataframe[variabelNumeric].describe()\n",
        "# count = total data yang tidak NaN\n",
        "# mean = rata-rata\n",
        "# std = standar deviasi"
      ]
    },
    {
      "cell_type": "code",
      "execution_count": null,
      "id": "4b8a3603-3eb6-4643-8d02-1215b7fdfd06",
      "metadata": {
        "id": "4b8a3603-3eb6-4643-8d02-1215b7fdfd06"
      },
      "outputs": [],
      "source": [
        "#replacing NA with means value\n",
        "# POINT PENTING BUAT REPLACE\n",
        "for variabelnumeric in variabelNumeric:\n",
        "    dataframe[variabelnumeric] = dataframe[variabelnumeric].fillna(dataframe[variabelnumeric].mean())"
      ]
    },
    {
      "cell_type": "code",
      "execution_count": null,
      "id": "a22eee72-a2d2-4ed2-90f7-877b1d3805a0",
      "metadata": {
        "id": "a22eee72-a2d2-4ed2-90f7-877b1d3805a0",
        "outputId": "50afb878-fae9-4dbf-a4ac-2dbb7e48a931"
      },
      "outputs": [
        {
          "data": {
            "text/html": [
              "<div>\n",
              "<style scoped>\n",
              "    .dataframe tbody tr th:only-of-type {\n",
              "        vertical-align: middle;\n",
              "    }\n",
              "\n",
              "    .dataframe tbody tr th {\n",
              "        vertical-align: top;\n",
              "    }\n",
              "\n",
              "    .dataframe thead th {\n",
              "        text-align: right;\n",
              "    }\n",
              "</style>\n",
              "<table border=\"1\" class=\"dataframe\">\n",
              "  <thead>\n",
              "    <tr style=\"text-align: right;\">\n",
              "      <th></th>\n",
              "      <th>AGE</th>\n",
              "      <th>BILIRUBIN</th>\n",
              "      <th>PROTIME</th>\n",
              "      <th>ALBUMIN</th>\n",
              "      <th>ALK PHOSPHATE</th>\n",
              "      <th>SGOT</th>\n",
              "    </tr>\n",
              "  </thead>\n",
              "  <tbody>\n",
              "    <tr>\n",
              "      <th>0</th>\n",
              "      <td>30</td>\n",
              "      <td>1.000000</td>\n",
              "      <td>61.852273</td>\n",
              "      <td>4.000000</td>\n",
              "      <td>85.000000</td>\n",
              "      <td>18.00000</td>\n",
              "    </tr>\n",
              "    <tr>\n",
              "      <th>1</th>\n",
              "      <td>50</td>\n",
              "      <td>0.900000</td>\n",
              "      <td>61.852273</td>\n",
              "      <td>3.500000</td>\n",
              "      <td>135.000000</td>\n",
              "      <td>42.00000</td>\n",
              "    </tr>\n",
              "    <tr>\n",
              "      <th>2</th>\n",
              "      <td>78</td>\n",
              "      <td>0.700000</td>\n",
              "      <td>61.852273</td>\n",
              "      <td>4.000000</td>\n",
              "      <td>96.000000</td>\n",
              "      <td>32.00000</td>\n",
              "    </tr>\n",
              "    <tr>\n",
              "      <th>3</th>\n",
              "      <td>31</td>\n",
              "      <td>0.700000</td>\n",
              "      <td>80.000000</td>\n",
              "      <td>4.000000</td>\n",
              "      <td>46.000000</td>\n",
              "      <td>52.00000</td>\n",
              "    </tr>\n",
              "    <tr>\n",
              "      <th>4</th>\n",
              "      <td>34</td>\n",
              "      <td>1.000000</td>\n",
              "      <td>61.852273</td>\n",
              "      <td>4.000000</td>\n",
              "      <td>105.325397</td>\n",
              "      <td>200.00000</td>\n",
              "    </tr>\n",
              "    <tr>\n",
              "      <th>5</th>\n",
              "      <td>34</td>\n",
              "      <td>0.900000</td>\n",
              "      <td>75.000000</td>\n",
              "      <td>4.000000</td>\n",
              "      <td>95.000000</td>\n",
              "      <td>28.00000</td>\n",
              "    </tr>\n",
              "    <tr>\n",
              "      <th>6</th>\n",
              "      <td>51</td>\n",
              "      <td>1.427517</td>\n",
              "      <td>61.852273</td>\n",
              "      <td>3.817266</td>\n",
              "      <td>105.325397</td>\n",
              "      <td>85.89404</td>\n",
              "    </tr>\n",
              "    <tr>\n",
              "      <th>7</th>\n",
              "      <td>23</td>\n",
              "      <td>1.000000</td>\n",
              "      <td>61.852273</td>\n",
              "      <td>3.817266</td>\n",
              "      <td>105.325397</td>\n",
              "      <td>85.89404</td>\n",
              "    </tr>\n",
              "    <tr>\n",
              "      <th>8</th>\n",
              "      <td>39</td>\n",
              "      <td>0.700000</td>\n",
              "      <td>61.852273</td>\n",
              "      <td>4.400000</td>\n",
              "      <td>105.325397</td>\n",
              "      <td>48.00000</td>\n",
              "    </tr>\n",
              "    <tr>\n",
              "      <th>9</th>\n",
              "      <td>30</td>\n",
              "      <td>1.000000</td>\n",
              "      <td>61.852273</td>\n",
              "      <td>3.900000</td>\n",
              "      <td>105.325397</td>\n",
              "      <td>120.00000</td>\n",
              "    </tr>\n",
              "  </tbody>\n",
              "</table>\n",
              "</div>"
            ],
            "text/plain": [
              "   AGE  BILIRUBIN    PROTIME   ALBUMIN  ALK PHOSPHATE       SGOT\n",
              "0   30   1.000000  61.852273  4.000000      85.000000   18.00000\n",
              "1   50   0.900000  61.852273  3.500000     135.000000   42.00000\n",
              "2   78   0.700000  61.852273  4.000000      96.000000   32.00000\n",
              "3   31   0.700000  80.000000  4.000000      46.000000   52.00000\n",
              "4   34   1.000000  61.852273  4.000000     105.325397  200.00000\n",
              "5   34   0.900000  75.000000  4.000000      95.000000   28.00000\n",
              "6   51   1.427517  61.852273  3.817266     105.325397   85.89404\n",
              "7   23   1.000000  61.852273  3.817266     105.325397   85.89404\n",
              "8   39   0.700000  61.852273  4.400000     105.325397   48.00000\n",
              "9   30   1.000000  61.852273  3.900000     105.325397  120.00000"
            ]
          },
          "execution_count": 292,
          "metadata": {},
          "output_type": "execute_result"
        }
      ],
      "source": [
        "dataframe[variabelNumeric].head(10)"
      ]
    },
    {
      "cell_type": "code",
      "execution_count": null,
      "id": "cf1a4e7c-ec48-44bb-8e15-b947dd6cacef",
      "metadata": {
        "id": "cf1a4e7c-ec48-44bb-8e15-b947dd6cacef",
        "outputId": "0c313207-b8bb-4011-b122-7c7f29c9e2e8"
      },
      "outputs": [
        {
          "data": {
            "text/plain": [
              "AGE              0\n",
              "BILIRUBIN        0\n",
              "PROTIME          0\n",
              "ALBUMIN          0\n",
              "ALK PHOSPHATE    0\n",
              "SGOT             0\n",
              "dtype: int64"
            ]
          },
          "execution_count": 293,
          "metadata": {},
          "output_type": "execute_result"
        }
      ],
      "source": [
        "dataframe[variabelNumeric].isnull().sum()"
      ]
    },
    {
      "cell_type": "code",
      "execution_count": null,
      "id": "f3f27861-8376-4aa0-b9ec-64903edfde59",
      "metadata": {
        "id": "f3f27861-8376-4aa0-b9ec-64903edfde59"
      },
      "outputs": [],
      "source": [
        "#dataframe.to_csv(\"D:/IF/SEM 5/ML/Mycsvfile3.csv\")"
      ]
    },
    {
      "cell_type": "markdown",
      "id": "efbc57a7-f47f-4b0d-a1e8-59c7fdc3f9dd",
      "metadata": {
        "id": "efbc57a7-f47f-4b0d-a1e8-59c7fdc3f9dd"
      },
      "source": [
        "### Data Categorical"
      ]
    },
    {
      "cell_type": "code",
      "execution_count": null,
      "id": "a2e818f3-4ee7-4d47-b15d-fec523ad9e00",
      "metadata": {
        "id": "a2e818f3-4ee7-4d47-b15d-fec523ad9e00"
      },
      "outputs": [],
      "source": [
        "#Impute the values using scikit-learn SimpleImpute Class\n",
        "#Mulai mengisi missing value dengan kata yang sering muncul\n",
        "from sklearn.impute import SimpleImputer\n",
        "# jadi simpleimputer itu tu sebuah function isine library sklearn.\n",
        "# yg emg nanti fungsinya itu untuk ngisi missing value dengan strategi most frequent words\n",
        "\n",
        "# memanggil fungsi buat ngereplace missing value dengan Most Frequent Words\n",
        "imp_freq = SimpleImputer(missing_values=np.nan,strategy='most_frequent')\n",
        "\n",
        "#fit in di dataframe_ori,krn dataframe udah ke proses buat numerik\n",
        "#jd yg diproses di datacategorical tu dataframe ori\n",
        "imp_freq.fit(dataframe_ori)\n",
        "\n",
        "#membuat variabel imputed_train_dataframe dengan imp.freq dari dataframe_ori\n",
        "imputed_train_dataframe = imp_freq.transform(dataframe_ori)"
      ]
    },
    {
      "cell_type": "code",
      "execution_count": null,
      "id": "c0a6f072",
      "metadata": {
        "id": "c0a6f072",
        "outputId": "b0940d64-d3ec-4edb-f54a-0c87003bf5f6"
      },
      "outputs": [
        {
          "data": {
            "text/plain": [
              "array([[2, 30, 2, ..., 4.0, 61.85227272727273, 1],\n",
              "       [2, 50, 1, ..., 3.5, 61.85227272727273, 1],\n",
              "       [2, 78, 1, ..., 4.0, 61.85227272727273, 1],\n",
              "       ...,\n",
              "       [2, 61, 1, ..., 4.1, 61.85227272727273, 2],\n",
              "       [2, 53, 2, ..., 4.1, 48.0, 2],\n",
              "       [1, 43, 1, ..., 3.1, 42.0, 2]], dtype=object)"
            ]
          },
          "execution_count": 296,
          "metadata": {},
          "output_type": "execute_result"
        }
      ],
      "source": [
        "imputed_train_dataframe"
      ]
    },
    {
      "cell_type": "code",
      "execution_count": null,
      "id": "d1765f5f-b074-4aa7-a0de-8f44e6f9ea60",
      "metadata": {
        "id": "d1765f5f-b074-4aa7-a0de-8f44e6f9ea60"
      },
      "outputs": [],
      "source": [
        "# var imputedDF diisi imputed_train_dataframe yg sudah diisi dataframe_ori\n",
        "# lalu var columns diisi kolomVariabel\n",
        "# dataframe yg dix itu ada di ImputedDF : bakal kepake sampe selesai\n",
        "imputedDf = pd.DataFrame(imputed_train_dataframe,columns=kolomVariabel)"
      ]
    },
    {
      "cell_type": "code",
      "execution_count": null,
      "id": "57e4ec38-6d47-4ba2-8161-917e3f7337cf",
      "metadata": {
        "id": "57e4ec38-6d47-4ba2-8161-917e3f7337cf",
        "outputId": "27274930-2ff3-4157-cbfb-4d722f3907b5"
      },
      "outputs": [
        {
          "name": "stdout",
          "output_type": "stream",
          "text": [
            "<class 'pandas.core.frame.DataFrame'>\n",
            "RangeIndex: 155 entries, 0 to 154\n",
            "Data columns (total 13 columns):\n",
            " #   Column           Non-Null Count  Dtype \n",
            "---  ------           --------------  ----- \n",
            " 0   SEX              155 non-null    object\n",
            " 1   STEROID          155 non-null    object\n",
            " 2   ANTIVIRALS       155 non-null    object\n",
            " 3   FATIGUE          155 non-null    object\n",
            " 4   MALAISE          155 non-null    object\n",
            " 5   ANOREXIA         155 non-null    object\n",
            " 6   LIVER BIG        155 non-null    object\n",
            " 7   LIVER FIRM       155 non-null    object\n",
            " 8   SPLEEN PALPABLE  155 non-null    object\n",
            " 9   SPIDERS          155 non-null    object\n",
            " 10  ASCITES          155 non-null    object\n",
            " 11  VARICES          155 non-null    object\n",
            " 12  HISTOLOGY        155 non-null    object\n",
            "dtypes: object(13)\n",
            "memory usage: 15.9+ KB\n"
          ]
        }
      ],
      "source": [
        "imputedDf[variabelCategorical].info()"
      ]
    },
    {
      "cell_type": "code",
      "execution_count": null,
      "id": "70ad769b-a993-433e-9587-7379b1fff650",
      "metadata": {
        "id": "70ad769b-a993-433e-9587-7379b1fff650"
      },
      "outputs": [],
      "source": [
        "# mengubah tipe data variabelCategorical\n",
        "imputedDf[variabelCategorical] = imputedDf[variabelCategorical].astype(int)"
      ]
    },
    {
      "cell_type": "code",
      "execution_count": null,
      "id": "cadc4c23-17e8-4e9a-a5b1-4533b6546a1c",
      "metadata": {
        "id": "cadc4c23-17e8-4e9a-a5b1-4533b6546a1c",
        "outputId": "daa4ea49-ea36-4211-a249-277663208d11"
      },
      "outputs": [
        {
          "data": {
            "text/html": [
              "<div>\n",
              "<style scoped>\n",
              "    .dataframe tbody tr th:only-of-type {\n",
              "        vertical-align: middle;\n",
              "    }\n",
              "\n",
              "    .dataframe tbody tr th {\n",
              "        vertical-align: top;\n",
              "    }\n",
              "\n",
              "    .dataframe thead th {\n",
              "        text-align: right;\n",
              "    }\n",
              "</style>\n",
              "<table border=\"1\" class=\"dataframe\">\n",
              "  <thead>\n",
              "    <tr style=\"text-align: right;\">\n",
              "      <th></th>\n",
              "      <th>SEX</th>\n",
              "      <th>STEROID</th>\n",
              "      <th>ANTIVIRALS</th>\n",
              "      <th>FATIGUE</th>\n",
              "      <th>MALAISE</th>\n",
              "      <th>ANOREXIA</th>\n",
              "      <th>LIVER BIG</th>\n",
              "      <th>LIVER FIRM</th>\n",
              "      <th>SPLEEN PALPABLE</th>\n",
              "      <th>SPIDERS</th>\n",
              "      <th>ASCITES</th>\n",
              "      <th>VARICES</th>\n",
              "      <th>HISTOLOGY</th>\n",
              "    </tr>\n",
              "  </thead>\n",
              "  <tbody>\n",
              "    <tr>\n",
              "      <th>1</th>\n",
              "      <td>139</td>\n",
              "      <td>76</td>\n",
              "      <td>24</td>\n",
              "      <td>101</td>\n",
              "      <td>61</td>\n",
              "      <td>32</td>\n",
              "      <td>25</td>\n",
              "      <td>60</td>\n",
              "      <td>30</td>\n",
              "      <td>51</td>\n",
              "      <td>20</td>\n",
              "      <td>18</td>\n",
              "      <td>85</td>\n",
              "    </tr>\n",
              "    <tr>\n",
              "      <th>2</th>\n",
              "      <td>16</td>\n",
              "      <td>79</td>\n",
              "      <td>131</td>\n",
              "      <td>54</td>\n",
              "      <td>94</td>\n",
              "      <td>123</td>\n",
              "      <td>130</td>\n",
              "      <td>95</td>\n",
              "      <td>125</td>\n",
              "      <td>104</td>\n",
              "      <td>135</td>\n",
              "      <td>137</td>\n",
              "      <td>70</td>\n",
              "    </tr>\n",
              "  </tbody>\n",
              "</table>\n",
              "</div>"
            ],
            "text/plain": [
              "   SEX  STEROID  ANTIVIRALS  FATIGUE  MALAISE  ANOREXIA  LIVER BIG  \\\n",
              "1  139       76          24      101       61        32         25   \n",
              "2   16       79         131       54       94       123        130   \n",
              "\n",
              "   LIVER FIRM  SPLEEN PALPABLE  SPIDERS  ASCITES  VARICES  HISTOLOGY  \n",
              "1          60               30       51       20       18         85  \n",
              "2          95              125      104      135      137         70  "
            ]
          },
          "execution_count": 300,
          "metadata": {},
          "output_type": "execute_result"
        }
      ],
      "source": [
        "# ngecount tiap jumlah dr jenis kategori\n",
        "imputedDf[variabelCategorical].apply(pd.Series.value_counts)"
      ]
    },
    {
      "cell_type": "code",
      "execution_count": null,
      "id": "8522a7ec-ed21-4feb-9941-5af9d2af010b",
      "metadata": {
        "id": "8522a7ec-ed21-4feb-9941-5af9d2af010b",
        "outputId": "b08dccab-325b-45ac-d363-2b18c060729b"
      },
      "outputs": [
        {
          "data": {
            "text/html": [
              "<div>\n",
              "<style scoped>\n",
              "    .dataframe tbody tr th:only-of-type {\n",
              "        vertical-align: middle;\n",
              "    }\n",
              "\n",
              "    .dataframe tbody tr th {\n",
              "        vertical-align: top;\n",
              "    }\n",
              "\n",
              "    .dataframe thead th {\n",
              "        text-align: right;\n",
              "    }\n",
              "</style>\n",
              "<table border=\"1\" class=\"dataframe\">\n",
              "  <thead>\n",
              "    <tr style=\"text-align: right;\">\n",
              "      <th></th>\n",
              "      <th>Class</th>\n",
              "      <th>AGE</th>\n",
              "      <th>SEX</th>\n",
              "      <th>STEROID</th>\n",
              "      <th>ANTIVIRALS</th>\n",
              "      <th>FATIGUE</th>\n",
              "      <th>MALAISE</th>\n",
              "      <th>ANOREXIA</th>\n",
              "      <th>LIVER BIG</th>\n",
              "      <th>LIVER FIRM</th>\n",
              "      <th>SPLEEN PALPABLE</th>\n",
              "      <th>SPIDERS</th>\n",
              "      <th>ASCITES</th>\n",
              "      <th>VARICES</th>\n",
              "      <th>BILIRUBIN</th>\n",
              "      <th>ALK PHOSPHATE</th>\n",
              "      <th>SGOT</th>\n",
              "      <th>ALBUMIN</th>\n",
              "      <th>PROTIME</th>\n",
              "      <th>HISTOLOGY</th>\n",
              "    </tr>\n",
              "  </thead>\n",
              "  <tbody>\n",
              "    <tr>\n",
              "      <th>0</th>\n",
              "      <td>2</td>\n",
              "      <td>30</td>\n",
              "      <td>2</td>\n",
              "      <td>1</td>\n",
              "      <td>2</td>\n",
              "      <td>2</td>\n",
              "      <td>2</td>\n",
              "      <td>2</td>\n",
              "      <td>1</td>\n",
              "      <td>2</td>\n",
              "      <td>2</td>\n",
              "      <td>2</td>\n",
              "      <td>2</td>\n",
              "      <td>2</td>\n",
              "      <td>1.0</td>\n",
              "      <td>85.0</td>\n",
              "      <td>18.0</td>\n",
              "      <td>4.0</td>\n",
              "      <td>61.852273</td>\n",
              "      <td>1</td>\n",
              "    </tr>\n",
              "    <tr>\n",
              "      <th>1</th>\n",
              "      <td>2</td>\n",
              "      <td>50</td>\n",
              "      <td>1</td>\n",
              "      <td>1</td>\n",
              "      <td>2</td>\n",
              "      <td>1</td>\n",
              "      <td>2</td>\n",
              "      <td>2</td>\n",
              "      <td>1</td>\n",
              "      <td>2</td>\n",
              "      <td>2</td>\n",
              "      <td>2</td>\n",
              "      <td>2</td>\n",
              "      <td>2</td>\n",
              "      <td>0.9</td>\n",
              "      <td>135.0</td>\n",
              "      <td>42.0</td>\n",
              "      <td>3.5</td>\n",
              "      <td>61.852273</td>\n",
              "      <td>1</td>\n",
              "    </tr>\n",
              "    <tr>\n",
              "      <th>2</th>\n",
              "      <td>2</td>\n",
              "      <td>78</td>\n",
              "      <td>1</td>\n",
              "      <td>2</td>\n",
              "      <td>2</td>\n",
              "      <td>1</td>\n",
              "      <td>2</td>\n",
              "      <td>2</td>\n",
              "      <td>2</td>\n",
              "      <td>2</td>\n",
              "      <td>2</td>\n",
              "      <td>2</td>\n",
              "      <td>2</td>\n",
              "      <td>2</td>\n",
              "      <td>0.7</td>\n",
              "      <td>96.0</td>\n",
              "      <td>32.0</td>\n",
              "      <td>4.0</td>\n",
              "      <td>61.852273</td>\n",
              "      <td>1</td>\n",
              "    </tr>\n",
              "    <tr>\n",
              "      <th>3</th>\n",
              "      <td>2</td>\n",
              "      <td>31</td>\n",
              "      <td>1</td>\n",
              "      <td>2</td>\n",
              "      <td>1</td>\n",
              "      <td>2</td>\n",
              "      <td>2</td>\n",
              "      <td>2</td>\n",
              "      <td>2</td>\n",
              "      <td>2</td>\n",
              "      <td>2</td>\n",
              "      <td>2</td>\n",
              "      <td>2</td>\n",
              "      <td>2</td>\n",
              "      <td>0.7</td>\n",
              "      <td>46.0</td>\n",
              "      <td>52.0</td>\n",
              "      <td>4.0</td>\n",
              "      <td>80.0</td>\n",
              "      <td>1</td>\n",
              "    </tr>\n",
              "    <tr>\n",
              "      <th>4</th>\n",
              "      <td>2</td>\n",
              "      <td>34</td>\n",
              "      <td>1</td>\n",
              "      <td>2</td>\n",
              "      <td>2</td>\n",
              "      <td>2</td>\n",
              "      <td>2</td>\n",
              "      <td>2</td>\n",
              "      <td>2</td>\n",
              "      <td>2</td>\n",
              "      <td>2</td>\n",
              "      <td>2</td>\n",
              "      <td>2</td>\n",
              "      <td>2</td>\n",
              "      <td>1.0</td>\n",
              "      <td>105.325397</td>\n",
              "      <td>200.0</td>\n",
              "      <td>4.0</td>\n",
              "      <td>61.852273</td>\n",
              "      <td>1</td>\n",
              "    </tr>\n",
              "  </tbody>\n",
              "</table>\n",
              "</div>"
            ],
            "text/plain": [
              "  Class AGE  SEX  STEROID  ANTIVIRALS  FATIGUE  MALAISE  ANOREXIA  LIVER BIG  \\\n",
              "0     2  30    2        1           2        2        2         2          1   \n",
              "1     2  50    1        1           2        1        2         2          1   \n",
              "2     2  78    1        2           2        1        2         2          2   \n",
              "3     2  31    1        2           1        2        2         2          2   \n",
              "4     2  34    1        2           2        2        2         2          2   \n",
              "\n",
              "   LIVER FIRM  SPLEEN PALPABLE  SPIDERS  ASCITES  VARICES BILIRUBIN  \\\n",
              "0           2                2        2        2        2       1.0   \n",
              "1           2                2        2        2        2       0.9   \n",
              "2           2                2        2        2        2       0.7   \n",
              "3           2                2        2        2        2       0.7   \n",
              "4           2                2        2        2        2       1.0   \n",
              "\n",
              "  ALK PHOSPHATE   SGOT ALBUMIN    PROTIME  HISTOLOGY  \n",
              "0          85.0   18.0     4.0  61.852273          1  \n",
              "1         135.0   42.0     3.5  61.852273          1  \n",
              "2          96.0   32.0     4.0  61.852273          1  \n",
              "3          46.0   52.0     4.0       80.0          1  \n",
              "4    105.325397  200.0     4.0  61.852273          1  "
            ]
          },
          "execution_count": 301,
          "metadata": {},
          "output_type": "execute_result"
        }
      ],
      "source": [
        "imputedDf.head(5)"
      ]
    },
    {
      "cell_type": "code",
      "execution_count": null,
      "id": "52b99e1a-44ba-489b-88fe-38d3deadf7ef",
      "metadata": {
        "id": "52b99e1a-44ba-489b-88fe-38d3deadf7ef"
      },
      "outputs": [],
      "source": [
        "#imputedDf.to_csv(\"D:/IF/SEM 5/ML/Mycsvfile4.csv\")"
      ]
    },
    {
      "cell_type": "code",
      "execution_count": null,
      "id": "6d71e590-7168-482e-988e-53e486b4efcf",
      "metadata": {
        "id": "6d71e590-7168-482e-988e-53e486b4efcf"
      },
      "outputs": [],
      "source": [
        "# convert kelas menjadi integer\n",
        "imputedDf[\"Class\"] = imputedDf[\"Class\"].astype(int)"
      ]
    },
    {
      "cell_type": "code",
      "execution_count": null,
      "id": "133b74bc-e952-4052-9e13-6594195e83da",
      "metadata": {
        "id": "133b74bc-e952-4052-9e13-6594195e83da",
        "outputId": "15df1f7c-fc3a-449e-fecf-8da8b5f3e502"
      },
      "outputs": [
        {
          "data": {
            "image/png": "[encoded data removed]",
            "text/plain": [
              "<Figure size 432x288 with 1 Axes>"
            ]
          },
          "metadata": {},
          "output_type": "display_data"
        }
      ],
      "source": [
        "class_count=sns.countplot(x=\"Class\", data=imputedDf)\n",
        "plt.gca().set_xticklabels(['Death','Alive']);\n",
        "class_count.set_title(\"Count of Outcome\")\n",
        "class_count.figure.savefig('class_count.png')"
      ]
    },
    {
      "cell_type": "code",
      "execution_count": null,
      "id": "c39f1a96-ebcc-466a-becf-676501ffaea2",
      "metadata": {
        "id": "c39f1a96-ebcc-466a-becf-676501ffaea2",
        "outputId": "3b9dc0dc-2c82-4026-beaa-5f9864808ae4"
      },
      "outputs": [
        {
          "data": {
            "image/png": "[encoded data removed]",
            "text/plain": [
              "<Figure size 432x288 with 1 Axes>"
            ]
          },
          "metadata": {},
          "output_type": "display_data"
        }
      ],
      "source": [
        "class_count=sns.countplot(x=\"Class\",hue=\"SEX\", data=imputedDf)\n",
        "plt.gca().set_xticklabels(['Death','Alive']);\n",
        "plt.legend(title='SEX', loc='upper left', labels=['Male', 'Female'])\n",
        "plt.show(class_count)\n",
        "##################################################################################### 1"
      ]
    },
    {
      "cell_type": "markdown",
      "id": "332b69e9-d015-4046-ac06-d4b38178ee95",
      "metadata": {
        "id": "332b69e9-d015-4046-ac06-d4b38178ee95"
      },
      "source": [
        "## Data Preprocessing : Feature Engineering\n",
        "Agar proses model yang dihasilkan mampu memprediksi atau memecahkan masalah lebih akurat.\n",
        "<br>a)\tStandardizing the scale.\n",
        "<br>b)\tMengatasi Imbalance Data dengan Teknik SMOTE"
      ]
    },
    {
      "cell_type": "markdown",
      "id": "075adef7-1e9f-4bd2-b8d0-c03808ae1708",
      "metadata": {
        "id": "075adef7-1e9f-4bd2-b8d0-c03808ae1708"
      },
      "source": [
        "### Standardizing the Scale"
      ]
    },
    {
      "cell_type": "code",
      "execution_count": null,
      "id": "58845f9e-e068-469f-91ba-b78927b3a599",
      "metadata": {
        "id": "58845f9e-e068-469f-91ba-b78927b3a599"
      },
      "outputs": [],
      "source": [
        "from sklearn.preprocessing import StandardScaler\n",
        "from sklearn.model_selection import train_test_split\n",
        "from sklearn.metrics import accuracy_score, confusion_matrix, precision_recall_fscore_support, classification_report,confusion_matrix"
      ]
    },
    {
      "cell_type": "code",
      "execution_count": null,
      "id": "d81ae663-4113-456b-88cf-6404b8568cbb",
      "metadata": {
        "id": "d81ae663-4113-456b-88cf-6404b8568cbb"
      },
      "outputs": [],
      "source": [
        "A = imputedDf.drop([\"Class\",\"PROTIME\"],axis=1)"
      ]
    },
    {
      "cell_type": "code",
      "execution_count": null,
      "id": "617c613b-4aaa-41b0-b5cf-2cbfa2ebbe98",
      "metadata": {
        "id": "617c613b-4aaa-41b0-b5cf-2cbfa2ebbe98",
        "outputId": "db0cc849-cf99-4b77-a3f1-a401969bce90"
      },
      "outputs": [
        {
          "data": {
            "text/html": [
              "<div>\n",
              "<style scoped>\n",
              "    .dataframe tbody tr th:only-of-type {\n",
              "        vertical-align: middle;\n",
              "    }\n",
              "\n",
              "    .dataframe tbody tr th {\n",
              "        vertical-align: top;\n",
              "    }\n",
              "\n",
              "    .dataframe thead th {\n",
              "        text-align: right;\n",
              "    }\n",
              "</style>\n",
              "<table border=\"1\" class=\"dataframe\">\n",
              "  <thead>\n",
              "    <tr style=\"text-align: right;\">\n",
              "      <th></th>\n",
              "      <th>AGE</th>\n",
              "      <th>SEX</th>\n",
              "      <th>STEROID</th>\n",
              "      <th>ANTIVIRALS</th>\n",
              "      <th>FATIGUE</th>\n",
              "      <th>MALAISE</th>\n",
              "      <th>ANOREXIA</th>\n",
              "      <th>LIVER BIG</th>\n",
              "      <th>LIVER FIRM</th>\n",
              "      <th>SPLEEN PALPABLE</th>\n",
              "      <th>SPIDERS</th>\n",
              "      <th>ASCITES</th>\n",
              "      <th>VARICES</th>\n",
              "      <th>BILIRUBIN</th>\n",
              "      <th>ALK PHOSPHATE</th>\n",
              "      <th>SGOT</th>\n",
              "      <th>ALBUMIN</th>\n",
              "      <th>HISTOLOGY</th>\n",
              "    </tr>\n",
              "  </thead>\n",
              "  <tbody>\n",
              "    <tr>\n",
              "      <th>0</th>\n",
              "      <td>30</td>\n",
              "      <td>2</td>\n",
              "      <td>1</td>\n",
              "      <td>2</td>\n",
              "      <td>2</td>\n",
              "      <td>2</td>\n",
              "      <td>2</td>\n",
              "      <td>1</td>\n",
              "      <td>2</td>\n",
              "      <td>2</td>\n",
              "      <td>2</td>\n",
              "      <td>2</td>\n",
              "      <td>2</td>\n",
              "      <td>1.0</td>\n",
              "      <td>85.0</td>\n",
              "      <td>18.0</td>\n",
              "      <td>4.0</td>\n",
              "      <td>1</td>\n",
              "    </tr>\n",
              "    <tr>\n",
              "      <th>1</th>\n",
              "      <td>50</td>\n",
              "      <td>1</td>\n",
              "      <td>1</td>\n",
              "      <td>2</td>\n",
              "      <td>1</td>\n",
              "      <td>2</td>\n",
              "      <td>2</td>\n",
              "      <td>1</td>\n",
              "      <td>2</td>\n",
              "      <td>2</td>\n",
              "      <td>2</td>\n",
              "      <td>2</td>\n",
              "      <td>2</td>\n",
              "      <td>0.9</td>\n",
              "      <td>135.0</td>\n",
              "      <td>42.0</td>\n",
              "      <td>3.5</td>\n",
              "      <td>1</td>\n",
              "    </tr>\n",
              "    <tr>\n",
              "      <th>2</th>\n",
              "      <td>78</td>\n",
              "      <td>1</td>\n",
              "      <td>2</td>\n",
              "      <td>2</td>\n",
              "      <td>1</td>\n",
              "      <td>2</td>\n",
              "      <td>2</td>\n",
              "      <td>2</td>\n",
              "      <td>2</td>\n",
              "      <td>2</td>\n",
              "      <td>2</td>\n",
              "      <td>2</td>\n",
              "      <td>2</td>\n",
              "      <td>0.7</td>\n",
              "      <td>96.0</td>\n",
              "      <td>32.0</td>\n",
              "      <td>4.0</td>\n",
              "      <td>1</td>\n",
              "    </tr>\n",
              "    <tr>\n",
              "      <th>3</th>\n",
              "      <td>31</td>\n",
              "      <td>1</td>\n",
              "      <td>2</td>\n",
              "      <td>1</td>\n",
              "      <td>2</td>\n",
              "      <td>2</td>\n",
              "      <td>2</td>\n",
              "      <td>2</td>\n",
              "      <td>2</td>\n",
              "      <td>2</td>\n",
              "      <td>2</td>\n",
              "      <td>2</td>\n",
              "      <td>2</td>\n",
              "      <td>0.7</td>\n",
              "      <td>46.0</td>\n",
              "      <td>52.0</td>\n",
              "      <td>4.0</td>\n",
              "      <td>1</td>\n",
              "    </tr>\n",
              "    <tr>\n",
              "      <th>4</th>\n",
              "      <td>34</td>\n",
              "      <td>1</td>\n",
              "      <td>2</td>\n",
              "      <td>2</td>\n",
              "      <td>2</td>\n",
              "      <td>2</td>\n",
              "      <td>2</td>\n",
              "      <td>2</td>\n",
              "      <td>2</td>\n",
              "      <td>2</td>\n",
              "      <td>2</td>\n",
              "      <td>2</td>\n",
              "      <td>2</td>\n",
              "      <td>1.0</td>\n",
              "      <td>105.325397</td>\n",
              "      <td>200.0</td>\n",
              "      <td>4.0</td>\n",
              "      <td>1</td>\n",
              "    </tr>\n",
              "  </tbody>\n",
              "</table>\n",
              "</div>"
            ],
            "text/plain": [
              "  AGE  SEX  STEROID  ANTIVIRALS  FATIGUE  MALAISE  ANOREXIA  LIVER BIG  \\\n",
              "0  30    2        1           2        2        2         2          1   \n",
              "1  50    1        1           2        1        2         2          1   \n",
              "2  78    1        2           2        1        2         2          2   \n",
              "3  31    1        2           1        2        2         2          2   \n",
              "4  34    1        2           2        2        2         2          2   \n",
              "\n",
              "   LIVER FIRM  SPLEEN PALPABLE  SPIDERS  ASCITES  VARICES BILIRUBIN  \\\n",
              "0           2                2        2        2        2       1.0   \n",
              "1           2                2        2        2        2       0.9   \n",
              "2           2                2        2        2        2       0.7   \n",
              "3           2                2        2        2        2       0.7   \n",
              "4           2                2        2        2        2       1.0   \n",
              "\n",
              "  ALK PHOSPHATE   SGOT ALBUMIN  HISTOLOGY  \n",
              "0          85.0   18.0     4.0          1  \n",
              "1         135.0   42.0     3.5          1  \n",
              "2          96.0   32.0     4.0          1  \n",
              "3          46.0   52.0     4.0          1  \n",
              "4    105.325397  200.0     4.0          1  "
            ]
          },
          "execution_count": 308,
          "metadata": {},
          "output_type": "execute_result"
        }
      ],
      "source": [
        "A.head()"
      ]
    },
    {
      "cell_type": "code",
      "execution_count": null,
      "id": "f97efc66-18bd-47ae-9d1d-9358299b3673",
      "metadata": {
        "id": "f97efc66-18bd-47ae-9d1d-9358299b3673"
      },
      "outputs": [],
      "source": [
        "stdScalar = StandardScaler()\n",
        "datascale = stdScalar.fit_transform(A)\n",
        "# jadi ini si A yg berisi dataframe diatas itu"
      ]
    },
    {
      "cell_type": "code",
      "execution_count": null,
      "id": "b46f41f3",
      "metadata": {
        "id": "b46f41f3",
        "outputId": "1ac09d6e-aa10-48d8-f846-5d5bef0b5031"
      },
      "outputs": [
        {
          "data": {
            "text/plain": [
              "array([[-0.89419175,  2.94745653, -1.01954582, ..., -0.76983432,\n",
              "         0.29724559, -0.90748521],\n",
              "       [ 0.70257923, -0.33927557, -1.01954582, ..., -0.49770404,\n",
              "        -0.51608387, -0.90748521],\n",
              "       [ 2.93805862, -0.33927557,  0.98082889, ..., -0.61109166,\n",
              "         0.29724559, -0.90748521],\n",
              "       ...,\n",
              "       [ 1.58080328, -0.33927557, -1.01954582, ..., -0.74715679,\n",
              "         0.45991148,  1.10194633],\n",
              "       [ 0.94209488,  2.94745653, -1.01954582, ..., -0.75849555,\n",
              "         0.45991148,  1.10194633],\n",
              "       [ 0.14370939, -0.33927557,  0.98082889, ..., -0.75849555,\n",
              "        -1.16674744,  1.10194633]])"
            ]
          },
          "execution_count": 310,
          "metadata": {},
          "output_type": "execute_result"
        }
      ],
      "source": [
        "datascale #INI PENTING BUAT PROSES MODELINGNYA YG DIPAKE"
      ]
    },
    {
      "cell_type": "code",
      "execution_count": null,
      "id": "229af30a-981e-43bf-a39c-cb0bbed158b2",
      "metadata": {
        "id": "229af30a-981e-43bf-a39c-cb0bbed158b2"
      },
      "outputs": [],
      "source": [
        "kolomVariabel2=['AGE','SEX','STEROID','ANTIVIRALS','FATIGUE','MALAISE','ANOREXIA','LIVER BIG','LIVER FIRM','SPLEEN PALPABLE','SPIDERS','ASCITES','VARICES','BILIRUBIN','ALK PHOSPHATE','SGOT','ALBUMIN',\"HISTOLOGY\"]\n",
        "imputedDfScale= pd.DataFrame(datascale, columns=kolomVariabel2)\n",
        "# ini adalah proses untuk membuat datascale dijadiin dataframe lagi"
      ]
    },
    {
      "cell_type": "code",
      "execution_count": null,
      "id": "a503b7bb-4bc5-450a-be2e-7d8cbbf39801",
      "metadata": {
        "id": "a503b7bb-4bc5-450a-be2e-7d8cbbf39801",
        "outputId": "02f7e725-a4cc-4290-a0f9-d7b527505bc5"
      },
      "outputs": [
        {
          "data": {
            "text/html": [
              "<div>\n",
              "<style scoped>\n",
              "    .dataframe tbody tr th:only-of-type {\n",
              "        vertical-align: middle;\n",
              "    }\n",
              "\n",
              "    .dataframe tbody tr th {\n",
              "        vertical-align: top;\n",
              "    }\n",
              "\n",
              "    .dataframe thead th {\n",
              "        text-align: right;\n",
              "    }\n",
              "</style>\n",
              "<table border=\"1\" class=\"dataframe\">\n",
              "  <thead>\n",
              "    <tr style=\"text-align: right;\">\n",
              "      <th></th>\n",
              "      <th>AGE</th>\n",
              "      <th>SEX</th>\n",
              "      <th>STEROID</th>\n",
              "      <th>ANTIVIRALS</th>\n",
              "      <th>FATIGUE</th>\n",
              "      <th>MALAISE</th>\n",
              "      <th>ANOREXIA</th>\n",
              "      <th>LIVER BIG</th>\n",
              "      <th>LIVER FIRM</th>\n",
              "      <th>SPLEEN PALPABLE</th>\n",
              "      <th>SPIDERS</th>\n",
              "      <th>ASCITES</th>\n",
              "      <th>VARICES</th>\n",
              "      <th>BILIRUBIN</th>\n",
              "      <th>ALK PHOSPHATE</th>\n",
              "      <th>SGOT</th>\n",
              "      <th>ALBUMIN</th>\n",
              "      <th>HISTOLOGY</th>\n",
              "    </tr>\n",
              "  </thead>\n",
              "  <tbody>\n",
              "    <tr>\n",
              "      <th>0</th>\n",
              "      <td>-0.894192</td>\n",
              "      <td>2.947457</td>\n",
              "      <td>-1.019546</td>\n",
              "      <td>0.428026</td>\n",
              "      <td>1.367615</td>\n",
              "      <td>0.805566</td>\n",
              "      <td>0.510061</td>\n",
              "      <td>-2.280351</td>\n",
              "      <td>0.794719</td>\n",
              "      <td>0.489898</td>\n",
              "      <td>0.700275</td>\n",
              "      <td>0.384900</td>\n",
              "      <td>0.362473</td>\n",
              "      <td>-0.360938</td>\n",
              "      <td>-4.394144e-01</td>\n",
              "      <td>-0.769834</td>\n",
              "      <td>0.297246</td>\n",
              "      <td>-0.907485</td>\n",
              "    </tr>\n",
              "    <tr>\n",
              "      <th>1</th>\n",
              "      <td>0.702579</td>\n",
              "      <td>-0.339276</td>\n",
              "      <td>-1.019546</td>\n",
              "      <td>0.428026</td>\n",
              "      <td>-0.731200</td>\n",
              "      <td>0.805566</td>\n",
              "      <td>0.510061</td>\n",
              "      <td>-2.280351</td>\n",
              "      <td>0.794719</td>\n",
              "      <td>0.489898</td>\n",
              "      <td>0.700275</td>\n",
              "      <td>0.384900</td>\n",
              "      <td>0.362473</td>\n",
              "      <td>-0.445364</td>\n",
              "      <td>6.415347e-01</td>\n",
              "      <td>-0.497704</td>\n",
              "      <td>-0.516084</td>\n",
              "      <td>-0.907485</td>\n",
              "    </tr>\n",
              "    <tr>\n",
              "      <th>2</th>\n",
              "      <td>2.938059</td>\n",
              "      <td>-0.339276</td>\n",
              "      <td>0.980829</td>\n",
              "      <td>0.428026</td>\n",
              "      <td>-0.731200</td>\n",
              "      <td>0.805566</td>\n",
              "      <td>0.510061</td>\n",
              "      <td>0.438529</td>\n",
              "      <td>0.794719</td>\n",
              "      <td>0.489898</td>\n",
              "      <td>0.700275</td>\n",
              "      <td>0.384900</td>\n",
              "      <td>0.362473</td>\n",
              "      <td>-0.614217</td>\n",
              "      <td>-2.016056e-01</td>\n",
              "      <td>-0.611092</td>\n",
              "      <td>0.297246</td>\n",
              "      <td>-0.907485</td>\n",
              "    </tr>\n",
              "    <tr>\n",
              "      <th>3</th>\n",
              "      <td>-0.814353</td>\n",
              "      <td>-0.339276</td>\n",
              "      <td>0.980829</td>\n",
              "      <td>-2.336308</td>\n",
              "      <td>1.367615</td>\n",
              "      <td>0.805566</td>\n",
              "      <td>0.510061</td>\n",
              "      <td>0.438529</td>\n",
              "      <td>0.794719</td>\n",
              "      <td>0.489898</td>\n",
              "      <td>0.700275</td>\n",
              "      <td>0.384900</td>\n",
              "      <td>0.362473</td>\n",
              "      <td>-0.614217</td>\n",
              "      <td>-1.282555e+00</td>\n",
              "      <td>-0.384316</td>\n",
              "      <td>0.297246</td>\n",
              "      <td>-0.907485</td>\n",
              "    </tr>\n",
              "    <tr>\n",
              "      <th>4</th>\n",
              "      <td>-0.574838</td>\n",
              "      <td>-0.339276</td>\n",
              "      <td>0.980829</td>\n",
              "      <td>0.428026</td>\n",
              "      <td>1.367615</td>\n",
              "      <td>0.805566</td>\n",
              "      <td>0.510061</td>\n",
              "      <td>0.438529</td>\n",
              "      <td>0.794719</td>\n",
              "      <td>0.489898</td>\n",
              "      <td>0.700275</td>\n",
              "      <td>0.384900</td>\n",
              "      <td>0.362473</td>\n",
              "      <td>-0.360938</td>\n",
              "      <td>-3.072242e-16</td>\n",
              "      <td>1.293820</td>\n",
              "      <td>0.297246</td>\n",
              "      <td>-0.907485</td>\n",
              "    </tr>\n",
              "    <tr>\n",
              "      <th>...</th>\n",
              "      <td>...</td>\n",
              "      <td>...</td>\n",
              "      <td>...</td>\n",
              "      <td>...</td>\n",
              "      <td>...</td>\n",
              "      <td>...</td>\n",
              "      <td>...</td>\n",
              "      <td>...</td>\n",
              "      <td>...</td>\n",
              "      <td>...</td>\n",
              "      <td>...</td>\n",
              "      <td>...</td>\n",
              "      <td>...</td>\n",
              "      <td>...</td>\n",
              "      <td>...</td>\n",
              "      <td>...</td>\n",
              "      <td>...</td>\n",
              "      <td>...</td>\n",
              "    </tr>\n",
              "    <tr>\n",
              "      <th>150</th>\n",
              "      <td>0.383225</td>\n",
              "      <td>-0.339276</td>\n",
              "      <td>0.980829</td>\n",
              "      <td>0.428026</td>\n",
              "      <td>-0.731200</td>\n",
              "      <td>-1.241364</td>\n",
              "      <td>-1.960548</td>\n",
              "      <td>0.438529</td>\n",
              "      <td>0.794719</td>\n",
              "      <td>0.489898</td>\n",
              "      <td>-1.428011</td>\n",
              "      <td>-2.598076</td>\n",
              "      <td>-2.758824</td>\n",
              "      <td>5.211214</td>\n",
              "      <td>-3.072242e-16</td>\n",
              "      <td>1.770048</td>\n",
              "      <td>-0.841416</td>\n",
              "      <td>1.101946</td>\n",
              "    </tr>\n",
              "    <tr>\n",
              "      <th>151</th>\n",
              "      <td>0.223548</td>\n",
              "      <td>-0.339276</td>\n",
              "      <td>0.980829</td>\n",
              "      <td>0.428026</td>\n",
              "      <td>-0.731200</td>\n",
              "      <td>0.805566</td>\n",
              "      <td>0.510061</td>\n",
              "      <td>0.438529</td>\n",
              "      <td>-1.258306</td>\n",
              "      <td>0.489898</td>\n",
              "      <td>0.700275</td>\n",
              "      <td>0.384900</td>\n",
              "      <td>0.362473</td>\n",
              "      <td>-0.445364</td>\n",
              "      <td>4.469639e-01</td>\n",
              "      <td>0.636172</td>\n",
              "      <td>0.785243</td>\n",
              "      <td>1.101946</td>\n",
              "    </tr>\n",
              "    <tr>\n",
              "      <th>152</th>\n",
              "      <td>1.580803</td>\n",
              "      <td>-0.339276</td>\n",
              "      <td>-1.019546</td>\n",
              "      <td>0.428026</td>\n",
              "      <td>-0.731200</td>\n",
              "      <td>-1.241364</td>\n",
              "      <td>0.510061</td>\n",
              "      <td>-2.280351</td>\n",
              "      <td>-1.258306</td>\n",
              "      <td>0.489898</td>\n",
              "      <td>-1.428011</td>\n",
              "      <td>0.384900</td>\n",
              "      <td>0.362473</td>\n",
              "      <td>-0.529791</td>\n",
              "      <td>-6.556042e-01</td>\n",
              "      <td>-0.747157</td>\n",
              "      <td>0.459911</td>\n",
              "      <td>1.101946</td>\n",
              "    </tr>\n",
              "    <tr>\n",
              "      <th>153</th>\n",
              "      <td>0.942095</td>\n",
              "      <td>2.947457</td>\n",
              "      <td>-1.019546</td>\n",
              "      <td>0.428026</td>\n",
              "      <td>-0.731200</td>\n",
              "      <td>0.805566</td>\n",
              "      <td>0.510061</td>\n",
              "      <td>0.438529</td>\n",
              "      <td>0.794719</td>\n",
              "      <td>-2.041241</td>\n",
              "      <td>-1.428011</td>\n",
              "      <td>0.384900</td>\n",
              "      <td>-2.758824</td>\n",
              "      <td>0.061195</td>\n",
              "      <td>-5.258903e-01</td>\n",
              "      <td>-0.758496</td>\n",
              "      <td>0.459911</td>\n",
              "      <td>1.101946</td>\n",
              "    </tr>\n",
              "    <tr>\n",
              "      <th>154</th>\n",
              "      <td>0.143709</td>\n",
              "      <td>-0.339276</td>\n",
              "      <td>0.980829</td>\n",
              "      <td>0.428026</td>\n",
              "      <td>-0.731200</td>\n",
              "      <td>0.805566</td>\n",
              "      <td>0.510061</td>\n",
              "      <td>0.438529</td>\n",
              "      <td>0.794719</td>\n",
              "      <td>-2.041241</td>\n",
              "      <td>-1.428011</td>\n",
              "      <td>-2.598076</td>\n",
              "      <td>0.362473</td>\n",
              "      <td>-0.192085</td>\n",
              "      <td>-1.151297e-01</td>\n",
              "      <td>-0.758496</td>\n",
              "      <td>-1.166747</td>\n",
              "      <td>1.101946</td>\n",
              "    </tr>\n",
              "  </tbody>\n",
              "</table>\n",
              "<p>155 rows × 18 columns</p>\n",
              "</div>"
            ],
            "text/plain": [
              "          AGE       SEX   STEROID  ANTIVIRALS   FATIGUE   MALAISE  ANOREXIA  \\\n",
              "0   -0.894192  2.947457 -1.019546    0.428026  1.367615  0.805566  0.510061   \n",
              "1    0.702579 -0.339276 -1.019546    0.428026 -0.731200  0.805566  0.510061   \n",
              "2    2.938059 -0.339276  0.980829    0.428026 -0.731200  0.805566  0.510061   \n",
              "3   -0.814353 -0.339276  0.980829   -2.336308  1.367615  0.805566  0.510061   \n",
              "4   -0.574838 -0.339276  0.980829    0.428026  1.367615  0.805566  0.510061   \n",
              "..        ...       ...       ...         ...       ...       ...       ...   \n",
              "150  0.383225 -0.339276  0.980829    0.428026 -0.731200 -1.241364 -1.960548   \n",
              "151  0.223548 -0.339276  0.980829    0.428026 -0.731200  0.805566  0.510061   \n",
              "152  1.580803 -0.339276 -1.019546    0.428026 -0.731200 -1.241364  0.510061   \n",
              "153  0.942095  2.947457 -1.019546    0.428026 -0.731200  0.805566  0.510061   \n",
              "154  0.143709 -0.339276  0.980829    0.428026 -0.731200  0.805566  0.510061   \n",
              "\n",
              "     LIVER BIG  LIVER FIRM  SPLEEN PALPABLE   SPIDERS   ASCITES   VARICES  \\\n",
              "0    -2.280351    0.794719         0.489898  0.700275  0.384900  0.362473   \n",
              "1    -2.280351    0.794719         0.489898  0.700275  0.384900  0.362473   \n",
              "2     0.438529    0.794719         0.489898  0.700275  0.384900  0.362473   \n",
              "3     0.438529    0.794719         0.489898  0.700275  0.384900  0.362473   \n",
              "4     0.438529    0.794719         0.489898  0.700275  0.384900  0.362473   \n",
              "..         ...         ...              ...       ...       ...       ...   \n",
              "150   0.438529    0.794719         0.489898 -1.428011 -2.598076 -2.758824   \n",
              "151   0.438529   -1.258306         0.489898  0.700275  0.384900  0.362473   \n",
              "152  -2.280351   -1.258306         0.489898 -1.428011  0.384900  0.362473   \n",
              "153   0.438529    0.794719        -2.041241 -1.428011  0.384900 -2.758824   \n",
              "154   0.438529    0.794719        -2.041241 -1.428011 -2.598076  0.362473   \n",
              "\n",
              "     BILIRUBIN  ALK PHOSPHATE      SGOT   ALBUMIN  HISTOLOGY  \n",
              "0    -0.360938  -4.394144e-01 -0.769834  0.297246  -0.907485  \n",
              "1    -0.445364   6.415347e-01 -0.497704 -0.516084  -0.907485  \n",
              "2    -0.614217  -2.016056e-01 -0.611092  0.297246  -0.907485  \n",
              "3    -0.614217  -1.282555e+00 -0.384316  0.297246  -0.907485  \n",
              "4    -0.360938  -3.072242e-16  1.293820  0.297246  -0.907485  \n",
              "..         ...            ...       ...       ...        ...  \n",
              "150   5.211214  -3.072242e-16  1.770048 -0.841416   1.101946  \n",
              "151  -0.445364   4.469639e-01  0.636172  0.785243   1.101946  \n",
              "152  -0.529791  -6.556042e-01 -0.747157  0.459911   1.101946  \n",
              "153   0.061195  -5.258903e-01 -0.758496  0.459911   1.101946  \n",
              "154  -0.192085  -1.151297e-01 -0.758496 -1.166747   1.101946  \n",
              "\n",
              "[155 rows x 18 columns]"
            ]
          },
          "execution_count": 312,
          "metadata": {},
          "output_type": "execute_result"
        }
      ],
      "source": [
        "imputedDfScale"
      ]
    },
    {
      "cell_type": "code",
      "execution_count": null,
      "id": "a329a1a0-ecf9-420a-81c3-26f4b4cc23db",
      "metadata": {
        "id": "a329a1a0-ecf9-420a-81c3-26f4b4cc23db",
        "outputId": "739b6ce9-4f2e-4b26-8354-73cea3924fb7"
      },
      "outputs": [
        {
          "data": {
            "text/plain": [
              "((124, 18), (31, 18), (124,), (31,))"
            ]
          },
          "execution_count": 313,
          "metadata": {},
          "output_type": "execute_result"
        }
      ],
      "source": [
        "####SPLITTING\n",
        "X = datascale #beisi semua label kecuali kelas\n",
        "Y = imputedDf[\"Class\"]  # kalo y berisi kelas doang\n",
        "\n",
        "# Split dataset in training and test datasets\n",
        "# Saat imbalance\n",
        "X_train, X_test, Y_train, Y_test = train_test_split(X,Y,test_size=0.2,random_state=42)\n",
        "X_train.shape, X_test.shape, Y_train.shape, Y_test.shape\n"
      ]
    },
    {
      "cell_type": "markdown",
      "id": "7aa3e856",
      "metadata": {
        "id": "7aa3e856"
      },
      "source": [
        "X Train = 124 data 18 kolom\n",
        "X Test  = 31 data 18 kolom\n",
        "Jadi si X berisi data yang tanpa kelas dan protime\n",
        "\n",
        "Y Train = 124 data 1 kolom, nah 1 kolom itu kolom kelas\n",
        "Y Test = 31 data 1 kolom (kolom juga kolom kelas)"
      ]
    },
    {
      "cell_type": "markdown",
      "id": "445a6e22-7b81-4867-af7f-210d21a00183",
      "metadata": {
        "id": "445a6e22-7b81-4867-af7f-210d21a00183"
      },
      "source": [
        "### Imbalance Data"
      ]
    },
    {
      "cell_type": "code",
      "execution_count": null,
      "id": "afbcfa2d-9bef-44f7-9fc4-10786f1a82bf",
      "metadata": {
        "id": "afbcfa2d-9bef-44f7-9fc4-10786f1a82bf",
        "outputId": "764b6be2-dcd7-4ef0-ef61-789a00c5d819"
      },
      "outputs": [
        {
          "data": {
            "image/png": "[encoded data removed]",
            "text/plain": [
              "<Figure size 432x288 with 1 Axes>"
            ]
          },
          "metadata": {},
          "output_type": "display_data"
        }
      ],
      "source": [
        "class_nobalance = pd.Series(Y_train).value_counts().plot.bar()\n",
        "class_nobalance.set_title(\"Outcome ytrain (Without SMOTE)\")\n",
        "plt.gca().set_xticklabels(['Death','Alive']);\n",
        "class_nobalance.figure.savefig('class_nobalance.png')"
      ]
    },
    {
      "cell_type": "code",
      "execution_count": null,
      "id": "9506c6c3-5143-44b2-acc7-da10ef1913c3",
      "metadata": {
        "id": "9506c6c3-5143-44b2-acc7-da10ef1913c3",
        "outputId": "069fd49d-822f-40d9-e93d-681f6fe61db2"
      },
      "outputs": [
        {
          "data": {
            "image/png": "[encoded data removed]",
            "text/plain": [
              "<Figure size 432x288 with 1 Axes>"
            ]
          },
          "metadata": {},
          "output_type": "display_data"
        }
      ],
      "source": [
        "from imblearn.over_sampling import SMOTE\n",
        "\n",
        "sm = SMOTE(random_state = 33)\n",
        "# jadi variabel sm berisi function SMOTE dengan random state 33\n",
        "# terus yg di smote itu si x train sama y trainnya\n",
        "# ravel biasanya digunain di variabel Y buat ngubah 2d arrry ke array 1d atau matriks\n",
        "X_train_new, Y_train_new = sm.fit_resample(X_train, Y_train.ravel())\n",
        "\n",
        "\n",
        "class_balance = pd.Series(Y_train_new).value_counts().plot.bar()\n",
        "#class balance kita itung Y trainnya buat nanti ngeplot di barplot\n",
        "class_balance.set_title(\"Outcome ytrain (SMOTE)\")\n",
        "plt.gca().set_xticklabels(['Death','Alive']);\n",
        "class_balance.figure.savefig('class_balance.png')\n",
        "\n",
        "############################################################################## 2"
      ]
    },
    {
      "cell_type": "markdown",
      "id": "3a256544-10ef-450a-9647-34f54fd1849a",
      "metadata": {
        "id": "3a256544-10ef-450a-9647-34f54fd1849a"
      },
      "source": [
        "# Machine Learning Classifier"
      ]
    },
    {
      "cell_type": "code",
      "execution_count": null,
      "id": "9bcf7ab9-fe87-47b5-ba55-75d38b4007d3",
      "metadata": {
        "id": "9bcf7ab9-fe87-47b5-ba55-75d38b4007d3"
      },
      "outputs": [],
      "source": [
        "from sklearn.model_selection import cross_validate,cross_val_predict\n",
        "# jadi menggunakan K-folds Cross Validation\n",
        "# variabel scoreDF untuk menyimpan performansi dr bayes\n",
        "scoreDF = pd.DataFrame(columns=['accuracy','f1','precision','recall',\"roc_auc\",\"type\",\"balance\"])"
      ]
    },
    {
      "cell_type": "markdown",
      "id": "90f5e12e",
      "metadata": {
        "id": "90f5e12e"
      },
      "source": [
        "Cross Validation digunakan karena merupakan salah satu metode yang terbaik untuk memvalidasi data yang\n",
        "akan digunakan. Salah satu contoh dar K-Fold Cross Validation adalah 10-Fold Cross Validation. Teknik ini\n",
        "akan membagi kumpulan data menjadi 10 subset dengan ukuran yang sama, sembilan dari 10 subset data\n",
        "digunakan untuk pelatihan, sementara satu subset yang tertinggal digunakan untuk pengujian."
      ]
    },
    {
      "cell_type": "markdown",
      "id": "b4ba51da-4f4a-43b5-9fe2-9d0ac8ea06ac",
      "metadata": {
        "id": "b4ba51da-4f4a-43b5-9fe2-9d0ac8ea06ac"
      },
      "source": [
        "### Implementasi Naive Bayes\n",
        "Dataset mengandung beberapa fitur dari variabel kontinyu, dan categorical, serta relatif kecil maka Naive Bayes cocok untuk diimplementasikan daripada model non-parametric lainnya"
      ]
    },
    {
      "cell_type": "code",
      "execution_count": null,
      "id": "f9ee1f6f-136b-4e3d-b19a-16415919fc3d",
      "metadata": {
        "id": "f9ee1f6f-136b-4e3d-b19a-16415919fc3d",
        "outputId": "26471ea1-af1f-470d-cee5-d56b0abc4060"
      },
      "outputs": [
        {
          "name": "stdout",
          "output_type": "stream",
          "text": [
            "Test accuracy:0.6384615384615384\n"
          ]
        }
      ],
      "source": [
        "from sklearn.naive_bayes import GaussianNB\n",
        "## nguji yg datanya belum balance\n",
        "classifier = GaussianNB()\n",
        "\n",
        "# jadi si x train dan y train akan di fit ke dalam model bayes buat membuat model ML\n",
        "# score itu berisi hasil dari cross validate\n",
        "# kan training itu buat ngehasil model kan, kalo testing dpt akurasi\n",
        "# x train sama y train kita masukin ke model bayes=> maka terbentuklah suatu model pembelajaran buat hepatitis ini\n",
        "score = cross_validate(classifier, X_train, Y_train, cv=10,scoring=['accuracy','f1','precision','recall',\"roc_auc\"])\n",
        "print(\"Test accuracy:{}\".format(score[\"test_accuracy\"].mean()))"
      ]
    },
    {
      "cell_type": "code",
      "execution_count": null,
      "id": "e2fb2f10",
      "metadata": {
        "id": "e2fb2f10",
        "outputId": "3a6e7dfb-1bc0-4eb6-d88f-153f372dfc71"
      },
      "outputs": [
        {
          "name": "stdout",
          "output_type": "stream",
          "text": [
            "Test accuracy:0.8181578947368422\n"
          ]
        }
      ],
      "source": [
        "## nguji si datanya balance\n",
        "classifier = GaussianNB()\n",
        "\n",
        "#cv 10 kali percobaan\n",
        "scoreBal = cross_validate(classifier, X_train_new, Y_train_new, cv=10, scoring=['accuracy', 'f1','precision','recall',\"roc_auc\"])\n",
        "print(\"Test accuracy:{}\".format(scoreBal[\"test_accuracy\"].mean()))"
      ]
    },
    {
      "cell_type": "code",
      "execution_count": null,
      "id": "72830b58-bb15-451b-baee-215d96b0eb3e",
      "metadata": {
        "id": "72830b58-bb15-451b-baee-215d96b0eb3e",
        "outputId": "668c0329-9f50-4cd8-b667-eeebd2a992ef"
      },
      "outputs": [
        {
          "name": "stderr",
          "output_type": "stream",
          "text": [
            "C:\\Users\\asus\\AppData\\Local\\Temp\\ipykernel_19120\\3076150514.py:4: FutureWarning: The frame.append method is deprecated and will be removed from pandas in a future version. Use pandas.concat instead.\n",
            "  scoreDF = scoreDF.append(pd.DataFrame([data], columns=scoreDF.columns), ignore_index=True, );\n",
            "C:\\Users\\asus\\AppData\\Local\\Temp\\ipykernel_19120\\3076150514.py:9: FutureWarning: The frame.append method is deprecated and will be removed from pandas in a future version. Use pandas.concat instead.\n",
            "  scoreDF = scoreDF.append(pd.DataFrame([data], columns=scoreDF.columns), ignore_index=True, )\n"
          ]
        },
        {
          "data": {
            "text/html": [
              "<div>\n",
              "<style scoped>\n",
              "    .dataframe tbody tr th:only-of-type {\n",
              "        vertical-align: middle;\n",
              "    }\n",
              "\n",
              "    .dataframe tbody tr th {\n",
              "        vertical-align: top;\n",
              "    }\n",
              "\n",
              "    .dataframe thead th {\n",
              "        text-align: right;\n",
              "    }\n",
              "</style>\n",
              "<table border=\"1\" class=\"dataframe\">\n",
              "  <thead>\n",
              "    <tr style=\"text-align: right;\">\n",
              "      <th></th>\n",
              "      <th>accuracy</th>\n",
              "      <th>f1</th>\n",
              "      <th>precision</th>\n",
              "      <th>recall</th>\n",
              "      <th>roc_auc</th>\n",
              "      <th>type</th>\n",
              "      <th>balance</th>\n",
              "    </tr>\n",
              "  </thead>\n",
              "  <tbody>\n",
              "    <tr>\n",
              "      <th>0</th>\n",
              "      <td>0.638462</td>\n",
              "      <td>0.512338</td>\n",
              "      <td>0.35631</td>\n",
              "      <td>0.933333</td>\n",
              "      <td>0.883148</td>\n",
              "      <td>NaiveB</td>\n",
              "      <td>No</td>\n",
              "    </tr>\n",
              "    <tr>\n",
              "      <th>1</th>\n",
              "      <td>0.818158</td>\n",
              "      <td>0.839866</td>\n",
              "      <td>0.754545</td>\n",
              "      <td>0.95</td>\n",
              "      <td>0.924556</td>\n",
              "      <td>NaiveB</td>\n",
              "      <td>Yes</td>\n",
              "    </tr>\n",
              "  </tbody>\n",
              "</table>\n",
              "</div>"
            ],
            "text/plain": [
              "   accuracy        f1 precision    recall   roc_auc    type balance\n",
              "0  0.638462  0.512338   0.35631  0.933333  0.883148  NaiveB      No\n",
              "1  0.818158  0.839866  0.754545      0.95  0.924556  NaiveB     Yes"
            ]
          },
          "execution_count": 319,
          "metadata": {},
          "output_type": "execute_result"
        }
      ],
      "source": [
        "## yg data blm balance\n",
        "data =[score[\"test_accuracy\"].mean(), score[\"test_f1\"].mean(), score[\"test_precision\"].mean(), score[\"test_recall\"].mean(),score[\"test_roc_auc\"].mean(),\n",
        "      \"NaiveB\",\"No\"]\n",
        "scoreDF = scoreDF.append(pd.DataFrame([data], columns=scoreDF.columns), ignore_index=True, );\n",
        "##################################\n",
        "## yg data balance\n",
        "data =[scoreBal[\"test_accuracy\"].mean(), scoreBal[\"test_f1\"].mean(), scoreBal[\"test_precision\"].mean(), scoreBal[\"test_recall\"].mean(),scoreBal[\"test_roc_auc\"].mean(),\n",
        "      \"NaiveB\",\"Yes\"]\n",
        "scoreDF = scoreDF.append(pd.DataFrame([data], columns=scoreDF.columns), ignore_index=True, )\n",
        "scoreDF"
      ]
    },
    {
      "cell_type": "code",
      "execution_count": null,
      "id": "de053185",
      "metadata": {
        "id": "de053185"
      },
      "outputs": [],
      "source": [
        "y_pred = cross_val_predict(classifier, X_train_new, Y_train_new, cv=10)\n",
        "conf_mat = confusion_matrix(Y_train_new, y_pred)"
      ]
    },
    {
      "cell_type": "code",
      "execution_count": null,
      "id": "892ba900",
      "metadata": {
        "id": "892ba900",
        "outputId": "7e37abda-9256-4393-ea1c-a97ad8ef2446"
      },
      "outputs": [
        {
          "data": {
            "text/plain": [
              "array([[94,  5],\n",
              "       [31, 68]], dtype=int64)"
            ]
          },
          "execution_count": 321,
          "metadata": {},
          "output_type": "execute_result"
        }
      ],
      "source": [
        "conf_mat"
      ]
    },
    {
      "cell_type": "markdown",
      "id": "b749d58c",
      "metadata": {
        "id": "b749d58c"
      },
      "source": [
        "[TP FN\n",
        " FP TN]\n",
        "TP = 94\n",
        "FN = 5\n",
        "FP = 31\n",
        "TN = 68\n",
        "-> Precision = TP/TP+FP = 94/94+31= 0.75\n",
        "-> Recall = TP/TP+FN = 94/94+5= 0.95\n",
        "-> F1 Score = 2xPxR/(P+R) = 0.84\n",
        "KESIMPULAN: HIGH RECALL LOW PRECISION\n",
        "-> good : Jadi disini data negatif dikenali sebagai positif\n",
        "-> FN rendah FP tinggi, yg gabole FN Tinggi"
      ]
    },
    {
      "cell_type": "code",
      "execution_count": null,
      "id": "221fb5eb-f934-49e8-8586-904829d02aa3",
      "metadata": {
        "id": "221fb5eb-f934-49e8-8586-904829d02aa3",
        "outputId": "e6650d8d-a335-4715-8bf4-24b857ec44f0"
      },
      "outputs": [
        {
          "data": {
            "image/png": "[encoded data removed]",
            "text/plain": [
              "<Figure size 432x288 with 1 Axes>"
            ]
          },
          "metadata": {},
          "output_type": "display_data"
        }
      ],
      "source": [
        "accuracyPlot = sns.barplot(x='type',y='accuracy',data=scoreDF, hue=\"balance\")\n",
        "accuracyPlot.set_title(\"Classifier Mean Accuracy\")\n",
        "accuracyPlot.figure.savefig('accuracyPlot.png')"
      ]
    },
    {
      "cell_type": "code",
      "execution_count": null,
      "id": "1013d9c2",
      "metadata": {
        "id": "1013d9c2"
      },
      "outputs": [],
      "source": []
    }
  ],
  "metadata": {
    "kernelspec": {
      "display_name": "Python 3 (ipykernel)",
      "language": "python",
      "name": "python3"
    },
    "language_info": {
      "codemirror_mode": {
        "name": "ipython",
        "version": 3
      },
      "file_extension": ".py",
      "mimetype": "text/x-python",
      "name": "python",
      "nbconvert_exporter": "python",
      "pygments_lexer": "ipython3",
      "version": "3.9.10"
    },
    "colab": {
      "provenance": [],
      "include_colab_link": true
    }
  },
  "nbformat": 4,
  "nbformat_minor": 5
}